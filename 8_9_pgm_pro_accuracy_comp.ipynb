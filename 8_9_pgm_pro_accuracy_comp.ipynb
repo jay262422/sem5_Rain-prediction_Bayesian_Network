{
 "cells": [
  {
   "cell_type": "markdown",
   "id": "ca314634",
   "metadata": {},
   "source": [
    "# Accuracy for Model - 1\n",
    "\n",
    "## handmade"
   ]
  },
  {
   "cell_type": "code",
   "execution_count": 1,
   "id": "bbdfc49f",
   "metadata": {},
   "outputs": [],
   "source": [
    "import pickle"
   ]
  },
  {
   "cell_type": "code",
   "execution_count": 2,
   "id": "033ed79b",
   "metadata": {},
   "outputs": [],
   "source": [
    "pickled_model = pickle.load(open('model_tesed_1_var_elii.pkl', 'rb'))"
   ]
  },
  {
   "cell_type": "code",
   "execution_count": 3,
   "id": "0ed9f371",
   "metadata": {},
   "outputs": [],
   "source": [
    "X_test = pickle.load(open('X_test_1.pkl', 'rb'))"
   ]
  },
  {
   "cell_type": "code",
   "execution_count": 38,
   "id": "36e5c935",
   "metadata": {},
   "outputs": [],
   "source": [
    "kkk =  ['Rainfall']"
   ]
  },
  {
   "cell_type": "code",
   "execution_count": 39,
   "id": "eb8a4c60",
   "metadata": {},
   "outputs": [],
   "source": [
    "num = [[1],[2]]"
   ]
  },
  {
   "cell_type": "code",
   "execution_count": 20,
   "id": "85f6963f",
   "metadata": {},
   "outputs": [],
   "source": [
    "def find_value_1(posterior_p):\n",
    "    klo = str(posterior_p)\n",
    "    aoo = []\n",
    "    check = ['-','+','_','=','|',' ','\\n']\n",
    "    st = ''\n",
    "    pos = 0\n",
    "    for mk in klo:\n",
    "        if(mk not in check):\n",
    "            st += mk\n",
    "            pos = 1\n",
    "        elif(pos ==1): \n",
    "            #if(type(st)==type(1)):\n",
    "            aoo.append(st) \n",
    "            st = ''\n",
    "            pos = 0\n",
    "    return aoo[5]\n",
    "\n",
    "def find_output(note):\n",
    "    for i in kkk:\n",
    "        if(note[i]=='n'):\n",
    "            del note[i]\n",
    "    posterior_p_1 = pickled_model.query(['RainTomorrow'], evidence=note)\n",
    "    #print(posterior_p_1)\n",
    "    #print(\"\\n\")\n",
    "    #print(\"value of rain tomorrow: \")\n",
    "    coco = find_value_1(posterior_p_1)\n",
    "    #print(coco)\n",
    "    return coco"
   ]
  },
  {
   "cell_type": "code",
   "execution_count": 40,
   "id": "153536ac",
   "metadata": {},
   "outputs": [
    {
     "data": {
      "application/vnd.jupyter.widget-view+json": {
       "model_id": "cdc6aa017e6a40f0a87482ad19028109",
       "version_major": 2,
       "version_minor": 0
      },
      "text/plain": [
       "0it [00:00, ?it/s]"
      ]
     },
     "metadata": {},
     "output_type": "display_data"
    },
    {
     "data": {
      "application/vnd.jupyter.widget-view+json": {
       "model_id": "b8fc915afd26429c83e8772260e4d145",
       "version_major": 2,
       "version_minor": 0
      },
      "text/plain": [
       "0it [00:00, ?it/s]"
      ]
     },
     "metadata": {},
     "output_type": "display_data"
    },
    {
     "data": {
      "application/vnd.jupyter.widget-view+json": {
       "model_id": "66da039792934539844d8b4a1fda15fc",
       "version_major": 2,
       "version_minor": 0
      },
      "text/plain": [
       "0it [00:00, ?it/s]"
      ]
     },
     "metadata": {},
     "output_type": "display_data"
    },
    {
     "data": {
      "application/vnd.jupyter.widget-view+json": {
       "model_id": "ea96a5efba5d44ec8d60c1f533859c14",
       "version_major": 2,
       "version_minor": 0
      },
      "text/plain": [
       "0it [00:00, ?it/s]"
      ]
     },
     "metadata": {},
     "output_type": "display_data"
    }
   ],
   "source": [
    "predited_fo = []\n",
    "for io in num:\n",
    "    ready_note = dict(zip(kkk,io))\n",
    "    \n",
    "    predited_fo.append(find_output(ready_note))"
   ]
  },
  {
   "cell_type": "code",
   "execution_count": 41,
   "id": "307282c0",
   "metadata": {},
   "outputs": [
    {
     "data": {
      "text/plain": [
       "['0.1985', '0.5955']"
      ]
     },
     "execution_count": 41,
     "metadata": {},
     "output_type": "execute_result"
    }
   ],
   "source": [
    "predited_fo"
   ]
  },
  {
   "cell_type": "code",
   "execution_count": 42,
   "id": "297c89eb",
   "metadata": {},
   "outputs": [
    {
     "data": {
      "text/plain": [
       "(35549, 11)"
      ]
     },
     "execution_count": 42,
     "metadata": {},
     "output_type": "execute_result"
    }
   ],
   "source": [
    "X_test.shape"
   ]
  },
  {
   "cell_type": "code",
   "execution_count": 43,
   "id": "ced0a3bb",
   "metadata": {},
   "outputs": [],
   "source": [
    "val_ra = list(X_test['Rainfall'])"
   ]
  },
  {
   "cell_type": "code",
   "execution_count": 45,
   "id": "65bee90b",
   "metadata": {},
   "outputs": [],
   "source": [
    "val_for_te = list(X_test['RainTomorrow'])"
   ]
  },
  {
   "cell_type": "markdown",
   "id": "b8e6cdc5",
   "metadata": {},
   "source": [
    "#### accuracy"
   ]
  },
  {
   "cell_type": "code",
   "execution_count": 46,
   "id": "2be9ad8e",
   "metadata": {},
   "outputs": [
    {
     "name": "stdout",
     "output_type": "stream",
     "text": [
      "0.7872513994767786\n"
     ]
    }
   ],
   "source": [
    "from sklearn.metrics import accuracy_score\n",
    "acc = accuracy_score(val_ra, val_for_te)\n",
    "print(acc)"
   ]
  },
  {
   "cell_type": "markdown",
   "id": "b1af1753",
   "metadata": {},
   "source": [
    "#### 0.78"
   ]
  },
  {
   "cell_type": "code",
   "execution_count": null,
   "id": "28b3e3ed",
   "metadata": {},
   "outputs": [],
   "source": []
  },
  {
   "cell_type": "code",
   "execution_count": null,
   "id": "859c7a12",
   "metadata": {},
   "outputs": [],
   "source": []
  },
  {
   "cell_type": "code",
   "execution_count": null,
   "id": "e87ce242",
   "metadata": {},
   "outputs": [],
   "source": []
  },
  {
   "cell_type": "code",
   "execution_count": null,
   "id": "f127d5cf",
   "metadata": {},
   "outputs": [],
   "source": []
  },
  {
   "cell_type": "code",
   "execution_count": null,
   "id": "ee68fd63",
   "metadata": {},
   "outputs": [],
   "source": []
  },
  {
   "cell_type": "code",
   "execution_count": null,
   "id": "3b10d424",
   "metadata": {},
   "outputs": [],
   "source": []
  },
  {
   "cell_type": "code",
   "execution_count": null,
   "id": "5066ff8c",
   "metadata": {},
   "outputs": [],
   "source": []
  },
  {
   "cell_type": "code",
   "execution_count": null,
   "id": "6994cf83",
   "metadata": {},
   "outputs": [],
   "source": []
  },
  {
   "cell_type": "code",
   "execution_count": 94,
   "id": "248c9693",
   "metadata": {},
   "outputs": [],
   "source": [
    "# Accuracy Model -2\n",
    "\n",
    "### HC-K2 11 variable"
   ]
  },
  {
   "cell_type": "code",
   "execution_count": 49,
   "id": "92a12a9f",
   "metadata": {},
   "outputs": [],
   "source": [
    "pickled_model_09 = pickle.load(open('model_with_small_ver_auto.pkl', 'rb'))"
   ]
  },
  {
   "cell_type": "code",
   "execution_count": 50,
   "id": "fac05c82",
   "metadata": {},
   "outputs": [
    {
     "data": {
      "text/plain": [
       "(35549, 11)"
      ]
     },
     "execution_count": 50,
     "metadata": {},
     "output_type": "execute_result"
    }
   ],
   "source": [
    "X_test.shape"
   ]
  },
  {
   "cell_type": "code",
   "execution_count": 51,
   "id": "aec4b461",
   "metadata": {},
   "outputs": [],
   "source": [
    "kkk =  ['Rainfall','Sunshine','MaxTemp','MinTemp']"
   ]
  },
  {
   "cell_type": "code",
   "execution_count": 53,
   "id": "578799f5",
   "metadata": {},
   "outputs": [],
   "source": [
    "try_1 = [1,2]\n",
    "try_2 = [1,2,3]\n",
    "try_3 = [1,2,3]\n",
    "try_4 = [1,2,3]"
   ]
  },
  {
   "cell_type": "code",
   "execution_count": 54,
   "id": "092fdf15",
   "metadata": {},
   "outputs": [],
   "source": [
    "all_co = []\n",
    "for fr in try_1:\n",
    "    for se in try_2:\n",
    "        for thr in try_3:\n",
    "            for fo in try_4:\n",
    "                all_co.append([fr,se,thr,fo])"
   ]
  },
  {
   "cell_type": "code",
   "execution_count": 60,
   "id": "3cb15228",
   "metadata": {},
   "outputs": [
    {
     "data": {
      "application/vnd.jupyter.widget-view+json": {
       "model_id": "682e9b70234240a785c558cbebf92e8d",
       "version_major": 2,
       "version_minor": 0
      },
      "text/plain": [
       "  0%|          | 0/11 [00:00<?, ?it/s]"
      ]
     },
     "metadata": {},
     "output_type": "display_data"
    },
    {
     "data": {
      "application/vnd.jupyter.widget-view+json": {
       "model_id": "01cc47caeca74fd88651c74d51e9bbd2",
       "version_major": 2,
       "version_minor": 0
      },
      "text/plain": [
       "  0%|          | 0/11 [00:00<?, ?it/s]"
      ]
     },
     "metadata": {},
     "output_type": "display_data"
    },
    {
     "data": {
      "application/vnd.jupyter.widget-view+json": {
       "model_id": "2cc0d706b47e4a43a2bdd7e06ea5c2ba",
       "version_major": 2,
       "version_minor": 0
      },
      "text/plain": [
       "  0%|          | 0/11 [00:00<?, ?it/s]"
      ]
     },
     "metadata": {},
     "output_type": "display_data"
    },
    {
     "data": {
      "application/vnd.jupyter.widget-view+json": {
       "model_id": "f40a02fc4b054f658885e5ca81f5539f",
       "version_major": 2,
       "version_minor": 0
      },
      "text/plain": [
       "  0%|          | 0/11 [00:00<?, ?it/s]"
      ]
     },
     "metadata": {},
     "output_type": "display_data"
    },
    {
     "data": {
      "application/vnd.jupyter.widget-view+json": {
       "model_id": "a20b74f408a9451da1f2b1dea4466d22",
       "version_major": 2,
       "version_minor": 0
      },
      "text/plain": [
       "  0%|          | 0/11 [00:00<?, ?it/s]"
      ]
     },
     "metadata": {},
     "output_type": "display_data"
    },
    {
     "data": {
      "application/vnd.jupyter.widget-view+json": {
       "model_id": "d580a858cbbd4ec4bc464bfe76b63cc7",
       "version_major": 2,
       "version_minor": 0
      },
      "text/plain": [
       "  0%|          | 0/11 [00:00<?, ?it/s]"
      ]
     },
     "metadata": {},
     "output_type": "display_data"
    },
    {
     "data": {
      "application/vnd.jupyter.widget-view+json": {
       "model_id": "eb815953e5d642b1afa3d3631dfff1ab",
       "version_major": 2,
       "version_minor": 0
      },
      "text/plain": [
       "  0%|          | 0/11 [00:00<?, ?it/s]"
      ]
     },
     "metadata": {},
     "output_type": "display_data"
    },
    {
     "data": {
      "application/vnd.jupyter.widget-view+json": {
       "model_id": "821908b50be84cd9a7104f4c6163c8f6",
       "version_major": 2,
       "version_minor": 0
      },
      "text/plain": [
       "  0%|          | 0/11 [00:00<?, ?it/s]"
      ]
     },
     "metadata": {},
     "output_type": "display_data"
    },
    {
     "data": {
      "application/vnd.jupyter.widget-view+json": {
       "model_id": "68844e9a152c49f996793619beb18ee9",
       "version_major": 2,
       "version_minor": 0
      },
      "text/plain": [
       "  0%|          | 0/11 [00:00<?, ?it/s]"
      ]
     },
     "metadata": {},
     "output_type": "display_data"
    },
    {
     "data": {
      "application/vnd.jupyter.widget-view+json": {
       "model_id": "f9605edf05af44df849a31efcfcebde3",
       "version_major": 2,
       "version_minor": 0
      },
      "text/plain": [
       "  0%|          | 0/11 [00:00<?, ?it/s]"
      ]
     },
     "metadata": {},
     "output_type": "display_data"
    },
    {
     "data": {
      "application/vnd.jupyter.widget-view+json": {
       "model_id": "dfab2711bc834576b8c3a61fcaab4309",
       "version_major": 2,
       "version_minor": 0
      },
      "text/plain": [
       "  0%|          | 0/11 [00:00<?, ?it/s]"
      ]
     },
     "metadata": {},
     "output_type": "display_data"
    },
    {
     "data": {
      "application/vnd.jupyter.widget-view+json": {
       "model_id": "3cb6cef7f57a4acd898e35c18b662a53",
       "version_major": 2,
       "version_minor": 0
      },
      "text/plain": [
       "  0%|          | 0/11 [00:00<?, ?it/s]"
      ]
     },
     "metadata": {},
     "output_type": "display_data"
    },
    {
     "data": {
      "application/vnd.jupyter.widget-view+json": {
       "model_id": "199032db7459467e8f63946feaa52ca5",
       "version_major": 2,
       "version_minor": 0
      },
      "text/plain": [
       "  0%|          | 0/11 [00:00<?, ?it/s]"
      ]
     },
     "metadata": {},
     "output_type": "display_data"
    },
    {
     "data": {
      "application/vnd.jupyter.widget-view+json": {
       "model_id": "05efbe07c50d4ff599bddce6a0506b9a",
       "version_major": 2,
       "version_minor": 0
      },
      "text/plain": [
       "  0%|          | 0/11 [00:00<?, ?it/s]"
      ]
     },
     "metadata": {},
     "output_type": "display_data"
    },
    {
     "data": {
      "application/vnd.jupyter.widget-view+json": {
       "model_id": "3705a4a49786415ca78d90d84c95b771",
       "version_major": 2,
       "version_minor": 0
      },
      "text/plain": [
       "  0%|          | 0/11 [00:00<?, ?it/s]"
      ]
     },
     "metadata": {},
     "output_type": "display_data"
    },
    {
     "data": {
      "application/vnd.jupyter.widget-view+json": {
       "model_id": "6c4ac7691a724df2853243191eb6ac5a",
       "version_major": 2,
       "version_minor": 0
      },
      "text/plain": [
       "  0%|          | 0/11 [00:00<?, ?it/s]"
      ]
     },
     "metadata": {},
     "output_type": "display_data"
    },
    {
     "data": {
      "application/vnd.jupyter.widget-view+json": {
       "model_id": "405941e44c1a4c70ad30d2263338eebd",
       "version_major": 2,
       "version_minor": 0
      },
      "text/plain": [
       "  0%|          | 0/11 [00:00<?, ?it/s]"
      ]
     },
     "metadata": {},
     "output_type": "display_data"
    },
    {
     "data": {
      "application/vnd.jupyter.widget-view+json": {
       "model_id": "faf4704c277b44c3aa4640070bbd86a1",
       "version_major": 2,
       "version_minor": 0
      },
      "text/plain": [
       "  0%|          | 0/11 [00:00<?, ?it/s]"
      ]
     },
     "metadata": {},
     "output_type": "display_data"
    },
    {
     "data": {
      "application/vnd.jupyter.widget-view+json": {
       "model_id": "d767d4b460a548c7bb63f7b16b1bdddd",
       "version_major": 2,
       "version_minor": 0
      },
      "text/plain": [
       "  0%|          | 0/11 [00:00<?, ?it/s]"
      ]
     },
     "metadata": {},
     "output_type": "display_data"
    },
    {
     "data": {
      "application/vnd.jupyter.widget-view+json": {
       "model_id": "57ce4c9a4cd84d55b457380bb10f5547",
       "version_major": 2,
       "version_minor": 0
      },
      "text/plain": [
       "  0%|          | 0/11 [00:00<?, ?it/s]"
      ]
     },
     "metadata": {},
     "output_type": "display_data"
    },
    {
     "data": {
      "application/vnd.jupyter.widget-view+json": {
       "model_id": "8d123656dad94dd59c5c97fdebab78ec",
       "version_major": 2,
       "version_minor": 0
      },
      "text/plain": [
       "  0%|          | 0/11 [00:00<?, ?it/s]"
      ]
     },
     "metadata": {},
     "output_type": "display_data"
    },
    {
     "data": {
      "application/vnd.jupyter.widget-view+json": {
       "model_id": "cf032f17932b433ebb2aee17e8f03e3f",
       "version_major": 2,
       "version_minor": 0
      },
      "text/plain": [
       "  0%|          | 0/11 [00:00<?, ?it/s]"
      ]
     },
     "metadata": {},
     "output_type": "display_data"
    },
    {
     "data": {
      "application/vnd.jupyter.widget-view+json": {
       "model_id": "f37b1019acb544c78d406de25bb06398",
       "version_major": 2,
       "version_minor": 0
      },
      "text/plain": [
       "  0%|          | 0/11 [00:00<?, ?it/s]"
      ]
     },
     "metadata": {},
     "output_type": "display_data"
    },
    {
     "data": {
      "application/vnd.jupyter.widget-view+json": {
       "model_id": "54dad0849a18430c89edcb1d93fa6391",
       "version_major": 2,
       "version_minor": 0
      },
      "text/plain": [
       "  0%|          | 0/11 [00:00<?, ?it/s]"
      ]
     },
     "metadata": {},
     "output_type": "display_data"
    },
    {
     "data": {
      "application/vnd.jupyter.widget-view+json": {
       "model_id": "bbb37bd1fd6147f8b9c3e90598cd45a1",
       "version_major": 2,
       "version_minor": 0
      },
      "text/plain": [
       "  0%|          | 0/11 [00:00<?, ?it/s]"
      ]
     },
     "metadata": {},
     "output_type": "display_data"
    },
    {
     "data": {
      "application/vnd.jupyter.widget-view+json": {
       "model_id": "82a8aa8e0fd0400bad75e11e65a794d3",
       "version_major": 2,
       "version_minor": 0
      },
      "text/plain": [
       "  0%|          | 0/11 [00:00<?, ?it/s]"
      ]
     },
     "metadata": {},
     "output_type": "display_data"
    },
    {
     "data": {
      "application/vnd.jupyter.widget-view+json": {
       "model_id": "f59f9bd9915945e4850488a5f3bb6da8",
       "version_major": 2,
       "version_minor": 0
      },
      "text/plain": [
       "  0%|          | 0/11 [00:00<?, ?it/s]"
      ]
     },
     "metadata": {},
     "output_type": "display_data"
    },
    {
     "data": {
      "application/vnd.jupyter.widget-view+json": {
       "model_id": "1d597c10a1964873a9e2df434b8c1d81",
       "version_major": 2,
       "version_minor": 0
      },
      "text/plain": [
       "  0%|          | 0/11 [00:00<?, ?it/s]"
      ]
     },
     "metadata": {},
     "output_type": "display_data"
    },
    {
     "data": {
      "application/vnd.jupyter.widget-view+json": {
       "model_id": "9baf3b89f22749d1ab705905d83e5246",
       "version_major": 2,
       "version_minor": 0
      },
      "text/plain": [
       "  0%|          | 0/11 [00:00<?, ?it/s]"
      ]
     },
     "metadata": {},
     "output_type": "display_data"
    },
    {
     "data": {
      "application/vnd.jupyter.widget-view+json": {
       "model_id": "7012aef4ee334eec923891b767c04459",
       "version_major": 2,
       "version_minor": 0
      },
      "text/plain": [
       "  0%|          | 0/11 [00:00<?, ?it/s]"
      ]
     },
     "metadata": {},
     "output_type": "display_data"
    },
    {
     "data": {
      "application/vnd.jupyter.widget-view+json": {
       "model_id": "d071d888a3fc46c99aae681c71df0c21",
       "version_major": 2,
       "version_minor": 0
      },
      "text/plain": [
       "  0%|          | 0/11 [00:00<?, ?it/s]"
      ]
     },
     "metadata": {},
     "output_type": "display_data"
    },
    {
     "data": {
      "application/vnd.jupyter.widget-view+json": {
       "model_id": "6c32525a373c43d8a96e8f0321e0f50c",
       "version_major": 2,
       "version_minor": 0
      },
      "text/plain": [
       "  0%|          | 0/11 [00:00<?, ?it/s]"
      ]
     },
     "metadata": {},
     "output_type": "display_data"
    },
    {
     "data": {
      "application/vnd.jupyter.widget-view+json": {
       "model_id": "7c8c8ff04c90474e8361078a66319cb5",
       "version_major": 2,
       "version_minor": 0
      },
      "text/plain": [
       "  0%|          | 0/11 [00:00<?, ?it/s]"
      ]
     },
     "metadata": {},
     "output_type": "display_data"
    },
    {
     "data": {
      "application/vnd.jupyter.widget-view+json": {
       "model_id": "440daf2c8d1b41e79ea16e13e1a1acaf",
       "version_major": 2,
       "version_minor": 0
      },
      "text/plain": [
       "  0%|          | 0/11 [00:00<?, ?it/s]"
      ]
     },
     "metadata": {},
     "output_type": "display_data"
    },
    {
     "data": {
      "application/vnd.jupyter.widget-view+json": {
       "model_id": "91409380776f48a293b7d3cb41d58945",
       "version_major": 2,
       "version_minor": 0
      },
      "text/plain": [
       "  0%|          | 0/11 [00:00<?, ?it/s]"
      ]
     },
     "metadata": {},
     "output_type": "display_data"
    },
    {
     "data": {
      "application/vnd.jupyter.widget-view+json": {
       "model_id": "f0c01d9d82954b10a408d392c3dad01d",
       "version_major": 2,
       "version_minor": 0
      },
      "text/plain": [
       "  0%|          | 0/11 [00:00<?, ?it/s]"
      ]
     },
     "metadata": {},
     "output_type": "display_data"
    },
    {
     "data": {
      "application/vnd.jupyter.widget-view+json": {
       "model_id": "89ec7861bf7a4f59b69e99f49be208e9",
       "version_major": 2,
       "version_minor": 0
      },
      "text/plain": [
       "  0%|          | 0/11 [00:00<?, ?it/s]"
      ]
     },
     "metadata": {},
     "output_type": "display_data"
    },
    {
     "data": {
      "application/vnd.jupyter.widget-view+json": {
       "model_id": "511fcca459b44be094829292ab9eebb5",
       "version_major": 2,
       "version_minor": 0
      },
      "text/plain": [
       "  0%|          | 0/11 [00:00<?, ?it/s]"
      ]
     },
     "metadata": {},
     "output_type": "display_data"
    },
    {
     "data": {
      "application/vnd.jupyter.widget-view+json": {
       "model_id": "0e136c032701451b85abac9b2ad6ab9d",
       "version_major": 2,
       "version_minor": 0
      },
      "text/plain": [
       "  0%|          | 0/11 [00:00<?, ?it/s]"
      ]
     },
     "metadata": {},
     "output_type": "display_data"
    },
    {
     "data": {
      "application/vnd.jupyter.widget-view+json": {
       "model_id": "2bed1faede824376a310dba7c07900f0",
       "version_major": 2,
       "version_minor": 0
      },
      "text/plain": [
       "  0%|          | 0/11 [00:00<?, ?it/s]"
      ]
     },
     "metadata": {},
     "output_type": "display_data"
    },
    {
     "data": {
      "application/vnd.jupyter.widget-view+json": {
       "model_id": "6326c6be7dea4164a8d181087e757b74",
       "version_major": 2,
       "version_minor": 0
      },
      "text/plain": [
       "  0%|          | 0/11 [00:00<?, ?it/s]"
      ]
     },
     "metadata": {},
     "output_type": "display_data"
    },
    {
     "data": {
      "application/vnd.jupyter.widget-view+json": {
       "model_id": "9daf8b7ea6b940c288e55411e09ea007",
       "version_major": 2,
       "version_minor": 0
      },
      "text/plain": [
       "  0%|          | 0/11 [00:00<?, ?it/s]"
      ]
     },
     "metadata": {},
     "output_type": "display_data"
    },
    {
     "data": {
      "application/vnd.jupyter.widget-view+json": {
       "model_id": "4faa2f509d944fbfa0592b60693183ef",
       "version_major": 2,
       "version_minor": 0
      },
      "text/plain": [
       "  0%|          | 0/11 [00:00<?, ?it/s]"
      ]
     },
     "metadata": {},
     "output_type": "display_data"
    },
    {
     "data": {
      "application/vnd.jupyter.widget-view+json": {
       "model_id": "bf8fbfca592848909664e6a944d9f265",
       "version_major": 2,
       "version_minor": 0
      },
      "text/plain": [
       "  0%|          | 0/11 [00:00<?, ?it/s]"
      ]
     },
     "metadata": {},
     "output_type": "display_data"
    },
    {
     "data": {
      "application/vnd.jupyter.widget-view+json": {
       "model_id": "a810dad1632f4384a40600bce8fc3788",
       "version_major": 2,
       "version_minor": 0
      },
      "text/plain": [
       "  0%|          | 0/11 [00:00<?, ?it/s]"
      ]
     },
     "metadata": {},
     "output_type": "display_data"
    },
    {
     "data": {
      "application/vnd.jupyter.widget-view+json": {
       "model_id": "ab4d2fcd2fa54f8ea994c775dd2cd48a",
       "version_major": 2,
       "version_minor": 0
      },
      "text/plain": [
       "  0%|          | 0/11 [00:00<?, ?it/s]"
      ]
     },
     "metadata": {},
     "output_type": "display_data"
    },
    {
     "data": {
      "application/vnd.jupyter.widget-view+json": {
       "model_id": "edcc34ce09344c3f8746c2ee9f5f69bd",
       "version_major": 2,
       "version_minor": 0
      },
      "text/plain": [
       "  0%|          | 0/11 [00:00<?, ?it/s]"
      ]
     },
     "metadata": {},
     "output_type": "display_data"
    },
    {
     "data": {
      "application/vnd.jupyter.widget-view+json": {
       "model_id": "5b47400a89134f7597ef3b9e25ba3861",
       "version_major": 2,
       "version_minor": 0
      },
      "text/plain": [
       "  0%|          | 0/11 [00:00<?, ?it/s]"
      ]
     },
     "metadata": {},
     "output_type": "display_data"
    },
    {
     "data": {
      "application/vnd.jupyter.widget-view+json": {
       "model_id": "fcd61d2e32b44ac78db5b83cdef7faa7",
       "version_major": 2,
       "version_minor": 0
      },
      "text/plain": [
       "  0%|          | 0/11 [00:00<?, ?it/s]"
      ]
     },
     "metadata": {},
     "output_type": "display_data"
    },
    {
     "data": {
      "application/vnd.jupyter.widget-view+json": {
       "model_id": "42050baddc63470a99a5bff5e98999d6",
       "version_major": 2,
       "version_minor": 0
      },
      "text/plain": [
       "  0%|          | 0/11 [00:00<?, ?it/s]"
      ]
     },
     "metadata": {},
     "output_type": "display_data"
    },
    {
     "data": {
      "application/vnd.jupyter.widget-view+json": {
       "model_id": "992d2ce41f2f4e19b330bf3c6813b580",
       "version_major": 2,
       "version_minor": 0
      },
      "text/plain": [
       "  0%|          | 0/11 [00:00<?, ?it/s]"
      ]
     },
     "metadata": {},
     "output_type": "display_data"
    },
    {
     "data": {
      "application/vnd.jupyter.widget-view+json": {
       "model_id": "759fc00d64c649639a26899ec70f908c",
       "version_major": 2,
       "version_minor": 0
      },
      "text/plain": [
       "  0%|          | 0/11 [00:00<?, ?it/s]"
      ]
     },
     "metadata": {},
     "output_type": "display_data"
    },
    {
     "data": {
      "application/vnd.jupyter.widget-view+json": {
       "model_id": "2629da43be8a4a4fa437e47b168d35f5",
       "version_major": 2,
       "version_minor": 0
      },
      "text/plain": [
       "  0%|          | 0/11 [00:00<?, ?it/s]"
      ]
     },
     "metadata": {},
     "output_type": "display_data"
    },
    {
     "data": {
      "application/vnd.jupyter.widget-view+json": {
       "model_id": "8a1e8bfcdbcc42988fa7296cc812a34f",
       "version_major": 2,
       "version_minor": 0
      },
      "text/plain": [
       "  0%|          | 0/11 [00:00<?, ?it/s]"
      ]
     },
     "metadata": {},
     "output_type": "display_data"
    },
    {
     "data": {
      "application/vnd.jupyter.widget-view+json": {
       "model_id": "c3f733f12ecd4b4bb5721ee4540bb402",
       "version_major": 2,
       "version_minor": 0
      },
      "text/plain": [
       "  0%|          | 0/11 [00:00<?, ?it/s]"
      ]
     },
     "metadata": {},
     "output_type": "display_data"
    },
    {
     "data": {
      "application/vnd.jupyter.widget-view+json": {
       "model_id": "96ebc61951ce406c8e6ee190fc89a32f",
       "version_major": 2,
       "version_minor": 0
      },
      "text/plain": [
       "  0%|          | 0/11 [00:00<?, ?it/s]"
      ]
     },
     "metadata": {},
     "output_type": "display_data"
    },
    {
     "data": {
      "application/vnd.jupyter.widget-view+json": {
       "model_id": "07b00861eb7e4ac39214eaa0c37e801a",
       "version_major": 2,
       "version_minor": 0
      },
      "text/plain": [
       "  0%|          | 0/11 [00:00<?, ?it/s]"
      ]
     },
     "metadata": {},
     "output_type": "display_data"
    },
    {
     "data": {
      "application/vnd.jupyter.widget-view+json": {
       "model_id": "86581f92160b4ba0807b958107f42f36",
       "version_major": 2,
       "version_minor": 0
      },
      "text/plain": [
       "  0%|          | 0/11 [00:00<?, ?it/s]"
      ]
     },
     "metadata": {},
     "output_type": "display_data"
    },
    {
     "data": {
      "application/vnd.jupyter.widget-view+json": {
       "model_id": "f426e1a0aab1409ca4992ff8f4f96e93",
       "version_major": 2,
       "version_minor": 0
      },
      "text/plain": [
       "  0%|          | 0/11 [00:00<?, ?it/s]"
      ]
     },
     "metadata": {},
     "output_type": "display_data"
    },
    {
     "data": {
      "application/vnd.jupyter.widget-view+json": {
       "model_id": "42eb30ce99cf4cbdbabbac27edcd9749",
       "version_major": 2,
       "version_minor": 0
      },
      "text/plain": [
       "  0%|          | 0/11 [00:00<?, ?it/s]"
      ]
     },
     "metadata": {},
     "output_type": "display_data"
    },
    {
     "data": {
      "application/vnd.jupyter.widget-view+json": {
       "model_id": "c064aa0724a24cdabdfbd6ce364eadc9",
       "version_major": 2,
       "version_minor": 0
      },
      "text/plain": [
       "  0%|          | 0/11 [00:00<?, ?it/s]"
      ]
     },
     "metadata": {},
     "output_type": "display_data"
    },
    {
     "data": {
      "application/vnd.jupyter.widget-view+json": {
       "model_id": "ec87bc6bc06e4d15ba54c39f12045953",
       "version_major": 2,
       "version_minor": 0
      },
      "text/plain": [
       "  0%|          | 0/11 [00:00<?, ?it/s]"
      ]
     },
     "metadata": {},
     "output_type": "display_data"
    },
    {
     "data": {
      "application/vnd.jupyter.widget-view+json": {
       "model_id": "52720e30c0144f10a8af0efff13b1bc9",
       "version_major": 2,
       "version_minor": 0
      },
      "text/plain": [
       "  0%|          | 0/11 [00:00<?, ?it/s]"
      ]
     },
     "metadata": {},
     "output_type": "display_data"
    },
    {
     "data": {
      "application/vnd.jupyter.widget-view+json": {
       "model_id": "f9364f6958e640b1a8c146a21a9db8b4",
       "version_major": 2,
       "version_minor": 0
      },
      "text/plain": [
       "  0%|          | 0/11 [00:00<?, ?it/s]"
      ]
     },
     "metadata": {},
     "output_type": "display_data"
    },
    {
     "data": {
      "application/vnd.jupyter.widget-view+json": {
       "model_id": "26ca675fdbaf4852aea004b032f7112a",
       "version_major": 2,
       "version_minor": 0
      },
      "text/plain": [
       "  0%|          | 0/11 [00:00<?, ?it/s]"
      ]
     },
     "metadata": {},
     "output_type": "display_data"
    },
    {
     "data": {
      "application/vnd.jupyter.widget-view+json": {
       "model_id": "5dc397c5fa3f4249aaacfe2f3e565de1",
       "version_major": 2,
       "version_minor": 0
      },
      "text/plain": [
       "  0%|          | 0/11 [00:00<?, ?it/s]"
      ]
     },
     "metadata": {},
     "output_type": "display_data"
    },
    {
     "data": {
      "application/vnd.jupyter.widget-view+json": {
       "model_id": "e0f5817740544f949c440e2bfb5a0626",
       "version_major": 2,
       "version_minor": 0
      },
      "text/plain": [
       "  0%|          | 0/11 [00:00<?, ?it/s]"
      ]
     },
     "metadata": {},
     "output_type": "display_data"
    },
    {
     "data": {
      "application/vnd.jupyter.widget-view+json": {
       "model_id": "b5a25605bd6e4843a50553adc3d41a1d",
       "version_major": 2,
       "version_minor": 0
      },
      "text/plain": [
       "  0%|          | 0/11 [00:00<?, ?it/s]"
      ]
     },
     "metadata": {},
     "output_type": "display_data"
    },
    {
     "data": {
      "application/vnd.jupyter.widget-view+json": {
       "model_id": "0863f5a9e1354396b926cb05de1e0916",
       "version_major": 2,
       "version_minor": 0
      },
      "text/plain": [
       "  0%|          | 0/11 [00:00<?, ?it/s]"
      ]
     },
     "metadata": {},
     "output_type": "display_data"
    },
    {
     "data": {
      "application/vnd.jupyter.widget-view+json": {
       "model_id": "f41b1a31b284412fac95da0a359bbda3",
       "version_major": 2,
       "version_minor": 0
      },
      "text/plain": [
       "  0%|          | 0/11 [00:00<?, ?it/s]"
      ]
     },
     "metadata": {},
     "output_type": "display_data"
    },
    {
     "data": {
      "application/vnd.jupyter.widget-view+json": {
       "model_id": "47837d9e1bb54b708adbdfb7dcda64c6",
       "version_major": 2,
       "version_minor": 0
      },
      "text/plain": [
       "  0%|          | 0/11 [00:00<?, ?it/s]"
      ]
     },
     "metadata": {},
     "output_type": "display_data"
    },
    {
     "data": {
      "application/vnd.jupyter.widget-view+json": {
       "model_id": "094bbda5c31246e380ab5fcd1a90ff93",
       "version_major": 2,
       "version_minor": 0
      },
      "text/plain": [
       "  0%|          | 0/11 [00:00<?, ?it/s]"
      ]
     },
     "metadata": {},
     "output_type": "display_data"
    },
    {
     "data": {
      "application/vnd.jupyter.widget-view+json": {
       "model_id": "9a7d50b4cac2403590ed80430d9c740f",
       "version_major": 2,
       "version_minor": 0
      },
      "text/plain": [
       "  0%|          | 0/11 [00:00<?, ?it/s]"
      ]
     },
     "metadata": {},
     "output_type": "display_data"
    },
    {
     "data": {
      "application/vnd.jupyter.widget-view+json": {
       "model_id": "f9802c4aef854a72b2de394a6b55a151",
       "version_major": 2,
       "version_minor": 0
      },
      "text/plain": [
       "  0%|          | 0/11 [00:00<?, ?it/s]"
      ]
     },
     "metadata": {},
     "output_type": "display_data"
    },
    {
     "data": {
      "application/vnd.jupyter.widget-view+json": {
       "model_id": "5753f5425d5742089ef0d7d82ad2d1c5",
       "version_major": 2,
       "version_minor": 0
      },
      "text/plain": [
       "  0%|          | 0/11 [00:00<?, ?it/s]"
      ]
     },
     "metadata": {},
     "output_type": "display_data"
    },
    {
     "data": {
      "application/vnd.jupyter.widget-view+json": {
       "model_id": "0f742f6611e24ff8a1972d5d110a4ec6",
       "version_major": 2,
       "version_minor": 0
      },
      "text/plain": [
       "  0%|          | 0/11 [00:00<?, ?it/s]"
      ]
     },
     "metadata": {},
     "output_type": "display_data"
    },
    {
     "data": {
      "application/vnd.jupyter.widget-view+json": {
       "model_id": "4918690c28a94716a2a0f896f9108fc7",
       "version_major": 2,
       "version_minor": 0
      },
      "text/plain": [
       "  0%|          | 0/11 [00:00<?, ?it/s]"
      ]
     },
     "metadata": {},
     "output_type": "display_data"
    },
    {
     "data": {
      "application/vnd.jupyter.widget-view+json": {
       "model_id": "a51f0c946b254b3682fd14197671ee10",
       "version_major": 2,
       "version_minor": 0
      },
      "text/plain": [
       "  0%|          | 0/11 [00:00<?, ?it/s]"
      ]
     },
     "metadata": {},
     "output_type": "display_data"
    },
    {
     "data": {
      "application/vnd.jupyter.widget-view+json": {
       "model_id": "0f1c18069f1b42fb89dd3cb7cd645d5f",
       "version_major": 2,
       "version_minor": 0
      },
      "text/plain": [
       "  0%|          | 0/11 [00:00<?, ?it/s]"
      ]
     },
     "metadata": {},
     "output_type": "display_data"
    },
    {
     "data": {
      "application/vnd.jupyter.widget-view+json": {
       "model_id": "68f08b4a5aed43d79fbad759949fac79",
       "version_major": 2,
       "version_minor": 0
      },
      "text/plain": [
       "  0%|          | 0/11 [00:00<?, ?it/s]"
      ]
     },
     "metadata": {},
     "output_type": "display_data"
    },
    {
     "data": {
      "application/vnd.jupyter.widget-view+json": {
       "model_id": "95acfcff04344142867f59d707e2290f",
       "version_major": 2,
       "version_minor": 0
      },
      "text/plain": [
       "  0%|          | 0/11 [00:00<?, ?it/s]"
      ]
     },
     "metadata": {},
     "output_type": "display_data"
    },
    {
     "data": {
      "application/vnd.jupyter.widget-view+json": {
       "model_id": "af8fea440bc642178df139718c9fb139",
       "version_major": 2,
       "version_minor": 0
      },
      "text/plain": [
       "  0%|          | 0/11 [00:00<?, ?it/s]"
      ]
     },
     "metadata": {},
     "output_type": "display_data"
    },
    {
     "data": {
      "application/vnd.jupyter.widget-view+json": {
       "model_id": "854615de400d496ebd274701d023ac5c",
       "version_major": 2,
       "version_minor": 0
      },
      "text/plain": [
       "  0%|          | 0/11 [00:00<?, ?it/s]"
      ]
     },
     "metadata": {},
     "output_type": "display_data"
    },
    {
     "data": {
      "application/vnd.jupyter.widget-view+json": {
       "model_id": "20cc4dd1498843ed9fb3b717df979740",
       "version_major": 2,
       "version_minor": 0
      },
      "text/plain": [
       "  0%|          | 0/11 [00:00<?, ?it/s]"
      ]
     },
     "metadata": {},
     "output_type": "display_data"
    },
    {
     "data": {
      "application/vnd.jupyter.widget-view+json": {
       "model_id": "c8e58d7dcdbe44cfb522851a2ca78c4a",
       "version_major": 2,
       "version_minor": 0
      },
      "text/plain": [
       "  0%|          | 0/11 [00:00<?, ?it/s]"
      ]
     },
     "metadata": {},
     "output_type": "display_data"
    },
    {
     "data": {
      "application/vnd.jupyter.widget-view+json": {
       "model_id": "4205d0dc5ef246e4a77fd995222a1981",
       "version_major": 2,
       "version_minor": 0
      },
      "text/plain": [
       "  0%|          | 0/11 [00:00<?, ?it/s]"
      ]
     },
     "metadata": {},
     "output_type": "display_data"
    },
    {
     "data": {
      "application/vnd.jupyter.widget-view+json": {
       "model_id": "82b12813abdc437faf9462f9ce9c8d19",
       "version_major": 2,
       "version_minor": 0
      },
      "text/plain": [
       "  0%|          | 0/11 [00:00<?, ?it/s]"
      ]
     },
     "metadata": {},
     "output_type": "display_data"
    },
    {
     "data": {
      "application/vnd.jupyter.widget-view+json": {
       "model_id": "f4793395d44e49eea51ae719fe689214",
       "version_major": 2,
       "version_minor": 0
      },
      "text/plain": [
       "  0%|          | 0/11 [00:00<?, ?it/s]"
      ]
     },
     "metadata": {},
     "output_type": "display_data"
    },
    {
     "data": {
      "application/vnd.jupyter.widget-view+json": {
       "model_id": "94c2a47df3a947a9b765781ffe414e4c",
       "version_major": 2,
       "version_minor": 0
      },
      "text/plain": [
       "  0%|          | 0/11 [00:00<?, ?it/s]"
      ]
     },
     "metadata": {},
     "output_type": "display_data"
    },
    {
     "data": {
      "application/vnd.jupyter.widget-view+json": {
       "model_id": "ada5dcae4b224c2aafd3367043335f5c",
       "version_major": 2,
       "version_minor": 0
      },
      "text/plain": [
       "  0%|          | 0/11 [00:00<?, ?it/s]"
      ]
     },
     "metadata": {},
     "output_type": "display_data"
    },
    {
     "data": {
      "application/vnd.jupyter.widget-view+json": {
       "model_id": "8b44c410170a4e7fa94fdccd85517c6b",
       "version_major": 2,
       "version_minor": 0
      },
      "text/plain": [
       "  0%|          | 0/11 [00:00<?, ?it/s]"
      ]
     },
     "metadata": {},
     "output_type": "display_data"
    },
    {
     "data": {
      "application/vnd.jupyter.widget-view+json": {
       "model_id": "9e0684eeb3c0424193d19d9354099b6b",
       "version_major": 2,
       "version_minor": 0
      },
      "text/plain": [
       "  0%|          | 0/11 [00:00<?, ?it/s]"
      ]
     },
     "metadata": {},
     "output_type": "display_data"
    },
    {
     "data": {
      "application/vnd.jupyter.widget-view+json": {
       "model_id": "26e3983a1a6342d7ac46316e435492c1",
       "version_major": 2,
       "version_minor": 0
      },
      "text/plain": [
       "  0%|          | 0/11 [00:00<?, ?it/s]"
      ]
     },
     "metadata": {},
     "output_type": "display_data"
    },
    {
     "data": {
      "application/vnd.jupyter.widget-view+json": {
       "model_id": "33af530ff23d411aab8eaf68c7870e52",
       "version_major": 2,
       "version_minor": 0
      },
      "text/plain": [
       "  0%|          | 0/11 [00:00<?, ?it/s]"
      ]
     },
     "metadata": {},
     "output_type": "display_data"
    },
    {
     "data": {
      "application/vnd.jupyter.widget-view+json": {
       "model_id": "80d6c3973f4449469b74f11355de1d30",
       "version_major": 2,
       "version_minor": 0
      },
      "text/plain": [
       "  0%|          | 0/11 [00:00<?, ?it/s]"
      ]
     },
     "metadata": {},
     "output_type": "display_data"
    },
    {
     "data": {
      "application/vnd.jupyter.widget-view+json": {
       "model_id": "7a78709977c14c0ab86972489fcfc1c0",
       "version_major": 2,
       "version_minor": 0
      },
      "text/plain": [
       "  0%|          | 0/11 [00:00<?, ?it/s]"
      ]
     },
     "metadata": {},
     "output_type": "display_data"
    },
    {
     "data": {
      "application/vnd.jupyter.widget-view+json": {
       "model_id": "d5470a1cee6e4f67a000f034d120d6ee",
       "version_major": 2,
       "version_minor": 0
      },
      "text/plain": [
       "  0%|          | 0/11 [00:00<?, ?it/s]"
      ]
     },
     "metadata": {},
     "output_type": "display_data"
    },
    {
     "data": {
      "application/vnd.jupyter.widget-view+json": {
       "model_id": "98f5332b19964fc49a2862722589ffa4",
       "version_major": 2,
       "version_minor": 0
      },
      "text/plain": [
       "  0%|          | 0/11 [00:00<?, ?it/s]"
      ]
     },
     "metadata": {},
     "output_type": "display_data"
    },
    {
     "data": {
      "application/vnd.jupyter.widget-view+json": {
       "model_id": "a53de265839f4a308f9cbaaddc9a4ce2",
       "version_major": 2,
       "version_minor": 0
      },
      "text/plain": [
       "  0%|          | 0/11 [00:00<?, ?it/s]"
      ]
     },
     "metadata": {},
     "output_type": "display_data"
    },
    {
     "data": {
      "application/vnd.jupyter.widget-view+json": {
       "model_id": "420be1449caf4057a0eaaecc4c12204d",
       "version_major": 2,
       "version_minor": 0
      },
      "text/plain": [
       "  0%|          | 0/11 [00:00<?, ?it/s]"
      ]
     },
     "metadata": {},
     "output_type": "display_data"
    },
    {
     "data": {
      "application/vnd.jupyter.widget-view+json": {
       "model_id": "b20c4177159d445987b997489b3b01d3",
       "version_major": 2,
       "version_minor": 0
      },
      "text/plain": [
       "  0%|          | 0/11 [00:00<?, ?it/s]"
      ]
     },
     "metadata": {},
     "output_type": "display_data"
    },
    {
     "data": {
      "application/vnd.jupyter.widget-view+json": {
       "model_id": "02466d69c18b4826803114046e1a377c",
       "version_major": 2,
       "version_minor": 0
      },
      "text/plain": [
       "  0%|          | 0/11 [00:00<?, ?it/s]"
      ]
     },
     "metadata": {},
     "output_type": "display_data"
    },
    {
     "data": {
      "application/vnd.jupyter.widget-view+json": {
       "model_id": "41e3918ea89c47ab953e6d73f833b923",
       "version_major": 2,
       "version_minor": 0
      },
      "text/plain": [
       "  0%|          | 0/11 [00:00<?, ?it/s]"
      ]
     },
     "metadata": {},
     "output_type": "display_data"
    },
    {
     "data": {
      "application/vnd.jupyter.widget-view+json": {
       "model_id": "129eac339ec0446c9bd79c52a39c2913",
       "version_major": 2,
       "version_minor": 0
      },
      "text/plain": [
       "  0%|          | 0/11 [00:00<?, ?it/s]"
      ]
     },
     "metadata": {},
     "output_type": "display_data"
    },
    {
     "data": {
      "application/vnd.jupyter.widget-view+json": {
       "model_id": "537d08768f4b4125b633c42e1f470d14",
       "version_major": 2,
       "version_minor": 0
      },
      "text/plain": [
       "  0%|          | 0/11 [00:00<?, ?it/s]"
      ]
     },
     "metadata": {},
     "output_type": "display_data"
    },
    {
     "data": {
      "application/vnd.jupyter.widget-view+json": {
       "model_id": "d986178ebddc4741bfab4c6041f1709e",
       "version_major": 2,
       "version_minor": 0
      },
      "text/plain": [
       "  0%|          | 0/11 [00:00<?, ?it/s]"
      ]
     },
     "metadata": {},
     "output_type": "display_data"
    },
    {
     "data": {
      "application/vnd.jupyter.widget-view+json": {
       "model_id": "4492fb34f0ab4a57becc5164e8f2446f",
       "version_major": 2,
       "version_minor": 0
      },
      "text/plain": [
       "  0%|          | 0/11 [00:00<?, ?it/s]"
      ]
     },
     "metadata": {},
     "output_type": "display_data"
    },
    {
     "data": {
      "application/vnd.jupyter.widget-view+json": {
       "model_id": "0daa9576cfb1444080a6b65366adb873",
       "version_major": 2,
       "version_minor": 0
      },
      "text/plain": [
       "  0%|          | 0/11 [00:00<?, ?it/s]"
      ]
     },
     "metadata": {},
     "output_type": "display_data"
    }
   ],
   "source": [
    "rest = []\n",
    "for ll in all_co:\n",
    "    ready_note = dict(zip(kkk,ll))\n",
    "    rest.append(find_output(ready_note))\n",
    "    "
   ]
  },
  {
   "cell_type": "code",
   "execution_count": 61,
   "id": "351ed664",
   "metadata": {},
   "outputs": [],
   "source": [
    "for_test = []\n",
    "for i in range(35549):\n",
    "    df = []\n",
    "    for j in kkk:\n",
    "        df.append(int(X_test[i:i+1][j]))\n",
    "    for_test.append(df)"
   ]
  },
  {
   "cell_type": "code",
   "execution_count": 59,
   "id": "a16f6cf5",
   "metadata": {},
   "outputs": [],
   "source": [
    "def find_value_1(posterior_p):\n",
    "    klo = str(posterior_p)\n",
    "    aoo = []\n",
    "    check = ['-','+','_','=','|',' ','\\n']\n",
    "    st = ''\n",
    "    pos = 0\n",
    "    for mk in klo:\n",
    "        if(mk not in check):\n",
    "            st += mk\n",
    "            pos = 1\n",
    "        elif(pos ==1): \n",
    "            #if(type(st)==type(1)):\n",
    "            aoo.append(st) \n",
    "            st = ''\n",
    "            pos = 0\n",
    "    return aoo[5]\n",
    "\n",
    "def find_output(note):\n",
    "    for i in kkk:\n",
    "        if(note[i]=='n'):\n",
    "            del note[i]\n",
    "    posterior_p_1 = pickled_model_09.query(['RainTomorrow'], evidence=note)\n",
    "    #print(posterior_p_1)\n",
    "    #print(\"\\n\")\n",
    "    #print(\"value of rain tomorrow: \")\n",
    "    coco = find_value_1(posterior_p_1)\n",
    "    #print(coco)\n",
    "    return coco"
   ]
  },
  {
   "cell_type": "code",
   "execution_count": 62,
   "id": "84edcbbf",
   "metadata": {
    "collapsed": true
   },
   "outputs": [
    {
     "data": {
      "text/plain": [
       "[[1, 3, 3, 3],\n",
       " [1, 2, 1, 1],\n",
       " [2, 2, 3, 1],\n",
       " [1, 3, 2, 1],\n",
       " [1, 2, 1, 1],\n",
       " [1, 3, 3, 3],\n",
       " [1, 1, 3, 3],\n",
       " [1, 2, 3, 1],\n",
       " [1, 2, 3, 3],\n",
       " [1, 2, 3, 1],\n",
       " [1, 2, 3, 3],\n",
       " [1, 2, 3, 3],\n",
       " [1, 2, 3, 1],\n",
       " [1, 3, 3, 1],\n",
       " [1, 2, 3, 1],\n",
       " [1, 2, 3, 1],\n",
       " [1, 3, 2, 1],\n",
       " [1, 2, 3, 3],\n",
       " [1, 1, 1, 1],\n",
       " [1, 2, 3, 1],\n",
       " [1, 2, 3, 1],\n",
       " [1, 2, 3, 1],\n",
       " [1, 2, 3, 1],\n",
       " [1, 3, 3, 1],\n",
       " [2, 2, 3, 1],\n",
       " [1, 2, 2, 3],\n",
       " [1, 1, 3, 3],\n",
       " [1, 2, 1, 1],\n",
       " [1, 2, 3, 1],\n",
       " [1, 2, 1, 1],\n",
       " [1, 3, 3, 1],\n",
       " [1, 3, 3, 1],\n",
       " [1, 3, 2, 3],\n",
       " [2, 2, 3, 1],\n",
       " [1, 2, 3, 1],\n",
       " [1, 1, 3, 3],\n",
       " [1, 2, 3, 1],\n",
       " [1, 2, 1, 1],\n",
       " [1, 2, 1, 1],\n",
       " [1, 1, 3, 1],\n",
       " [1, 2, 3, 1],\n",
       " [1, 2, 1, 1],\n",
       " [1, 2, 3, 1],\n",
       " [1, 3, 2, 3],\n",
       " [1, 2, 1, 1],\n",
       " [1, 2, 1, 1],\n",
       " [1, 2, 3, 1],\n",
       " [1, 2, 2, 3],\n",
       " [1, 3, 3, 3],\n",
       " [1, 2, 3, 1],\n",
       " [1, 2, 2, 3],\n",
       " [1, 2, 3, 1],\n",
       " [1, 2, 3, 1],\n",
       " [1, 2, 3, 1],\n",
       " [1, 2, 2, 3],\n",
       " [1, 2, 3, 1],\n",
       " [1, 2, 2, 3],\n",
       " [2, 2, 3, 1],\n",
       " [1, 2, 1, 1],\n",
       " [1, 2, 1, 1],\n",
       " [1, 2, 2, 1],\n",
       " [2, 2, 3, 1],\n",
       " [1, 3, 2, 3],\n",
       " [1, 2, 3, 1],\n",
       " [1, 3, 2, 1],\n",
       " [1, 3, 2, 1],\n",
       " [1, 2, 3, 3],\n",
       " [1, 3, 3, 1],\n",
       " [1, 2, 3, 1],\n",
       " [1, 2, 2, 3],\n",
       " [1, 2, 3, 3],\n",
       " [1, 2, 3, 1],\n",
       " [1, 1, 1, 1],\n",
       " [1, 2, 3, 3],\n",
       " [1, 2, 3, 1],\n",
       " [1, 3, 3, 1],\n",
       " [1, 1, 1, 1],\n",
       " [1, 2, 3, 3],\n",
       " [1, 3, 2, 3],\n",
       " [1, 2, 3, 1],\n",
       " [2, 2, 3, 3],\n",
       " [1, 1, 3, 3],\n",
       " [1, 2, 3, 1],\n",
       " [1, 2, 3, 1],\n",
       " [1, 2, 3, 1],\n",
       " [1, 2, 2, 3],\n",
       " [1, 2, 3, 1],\n",
       " [1, 2, 3, 1],\n",
       " [1, 2, 3, 3],\n",
       " [1, 2, 3, 1],\n",
       " [1, 2, 1, 1],\n",
       " [1, 2, 3, 3],\n",
       " [1, 2, 3, 1],\n",
       " [2, 3, 3, 1],\n",
       " [1, 2, 3, 1],\n",
       " [1, 2, 1, 1],\n",
       " [1, 2, 3, 1],\n",
       " [1, 2, 3, 3],\n",
       " [1, 1, 3, 3],\n",
       " [1, 2, 2, 3],\n",
       " [2, 1, 3, 3],\n",
       " [1, 2, 3, 1],\n",
       " [1, 2, 2, 3],\n",
       " [1, 2, 2, 3],\n",
       " [1, 2, 1, 1],\n",
       " [1, 3, 2, 3],\n",
       " [1, 2, 3, 1],\n",
       " [1, 3, 3, 3],\n",
       " [1, 2, 2, 3],\n",
       " [1, 2, 3, 1],\n",
       " [2, 2, 3, 3],\n",
       " [1, 2, 3, 3],\n",
       " [2, 1, 3, 3],\n",
       " [1, 2, 3, 1],\n",
       " [1, 2, 1, 1],\n",
       " [1, 2, 2, 3],\n",
       " [1, 2, 3, 1],\n",
       " [1, 2, 2, 3],\n",
       " [1, 2, 3, 1],\n",
       " [1, 2, 3, 3],\n",
       " [1, 2, 3, 1],\n",
       " [1, 2, 1, 1],\n",
       " [1, 2, 2, 1],\n",
       " [1, 2, 3, 1],\n",
       " [1, 3, 3, 1],\n",
       " [1, 2, 3, 1],\n",
       " [1, 1, 3, 3],\n",
       " [1, 3, 3, 1],\n",
       " [2, 2, 3, 3],\n",
       " [1, 3, 3, 3],\n",
       " [2, 2, 1, 1],\n",
       " [1, 2, 3, 1],\n",
       " [1, 2, 2, 3],\n",
       " [1, 2, 3, 1],\n",
       " [1, 2, 1, 1],\n",
       " [2, 2, 3, 1],\n",
       " [1, 2, 3, 3],\n",
       " [1, 2, 3, 1],\n",
       " [1, 2, 3, 3],\n",
       " [1, 2, 3, 1],\n",
       " [1, 2, 3, 1],\n",
       " [1, 1, 1, 1],\n",
       " [1, 2, 1, 1],\n",
       " [1, 2, 2, 3],\n",
       " [1, 3, 2, 3],\n",
       " [1, 2, 3, 1],\n",
       " [1, 3, 2, 3],\n",
       " [1, 2, 2, 1],\n",
       " [1, 2, 3, 1],\n",
       " [1, 2, 3, 3],\n",
       " [1, 1, 3, 3],\n",
       " [1, 3, 3, 1],\n",
       " [1, 2, 1, 1],\n",
       " [1, 2, 3, 1],\n",
       " [1, 1, 3, 1],\n",
       " [1, 2, 3, 1],\n",
       " [1, 2, 1, 1],\n",
       " [2, 1, 3, 1],\n",
       " [1, 2, 3, 3],\n",
       " [1, 2, 3, 3],\n",
       " [1, 2, 3, 1],\n",
       " [1, 3, 2, 1],\n",
       " [1, 2, 3, 1],\n",
       " [1, 2, 3, 1],\n",
       " [1, 3, 2, 3],\n",
       " [1, 2, 3, 3],\n",
       " [1, 2, 3, 3],\n",
       " [1, 1, 1, 1],\n",
       " [1, 2, 1, 1],\n",
       " [1, 3, 3, 1],\n",
       " [1, 3, 3, 1],\n",
       " [1, 2, 3, 1],\n",
       " [1, 2, 3, 1],\n",
       " [2, 2, 1, 1],\n",
       " [1, 2, 3, 1],\n",
       " [1, 2, 3, 1],\n",
       " [1, 1, 3, 1],\n",
       " [1, 2, 3, 1],\n",
       " [1, 2, 2, 1],\n",
       " [1, 3, 3, 1],\n",
       " [1, 2, 2, 3],\n",
       " [1, 2, 1, 1],\n",
       " [1, 2, 1, 1],\n",
       " [1, 2, 3, 1],\n",
       " [1, 2, 3, 3],\n",
       " [1, 2, 1, 1],\n",
       " [1, 2, 3, 3],\n",
       " [1, 3, 2, 3],\n",
       " [1, 2, 2, 3],\n",
       " [1, 2, 3, 1],\n",
       " [1, 2, 3, 1],\n",
       " [1, 1, 3, 1],\n",
       " [1, 2, 3, 1],\n",
       " [1, 2, 1, 1],\n",
       " [1, 2, 3, 1],\n",
       " [1, 2, 3, 1],\n",
       " [1, 3, 3, 1],\n",
       " [1, 1, 3, 1],\n",
       " [1, 2, 2, 3],\n",
       " [1, 2, 3, 1],\n",
       " [1, 3, 3, 1],\n",
       " [1, 2, 3, 1],\n",
       " [1, 3, 3, 1],\n",
       " [1, 2, 3, 1],\n",
       " [2, 2, 3, 1],\n",
       " [1, 2, 2, 1],\n",
       " [1, 2, 1, 1],\n",
       " [1, 2, 3, 1],\n",
       " [1, 2, 3, 3],\n",
       " [1, 2, 3, 3],\n",
       " [1, 2, 2, 3],\n",
       " [2, 2, 3, 3],\n",
       " [1, 2, 3, 1],\n",
       " [1, 2, 3, 1],\n",
       " [1, 2, 3, 1],\n",
       " [1, 3, 2, 3],\n",
       " [1, 2, 3, 1],\n",
       " [1, 2, 3, 1],\n",
       " [1, 2, 1, 1],\n",
       " [1, 2, 3, 1],\n",
       " [1, 1, 3, 1],\n",
       " [1, 1, 3, 3],\n",
       " [1, 2, 3, 1],\n",
       " [1, 2, 3, 1],\n",
       " [1, 2, 2, 3],\n",
       " [1, 2, 3, 3],\n",
       " [1, 3, 3, 1],\n",
       " [1, 2, 2, 3],\n",
       " [1, 3, 3, 1],\n",
       " [1, 2, 3, 1],\n",
       " [1, 2, 2, 1],\n",
       " [1, 3, 3, 3],\n",
       " [1, 2, 1, 1],\n",
       " [1, 3, 3, 1],\n",
       " [1, 1, 3, 3],\n",
       " [1, 2, 1, 1],\n",
       " [1, 2, 2, 1],\n",
       " [1, 1, 1, 1],\n",
       " [1, 2, 3, 1],\n",
       " [1, 2, 1, 1],\n",
       " [1, 1, 3, 3],\n",
       " [1, 2, 2, 3],\n",
       " [1, 3, 3, 3],\n",
       " [2, 1, 3, 3],\n",
       " [1, 3, 3, 1],\n",
       " [1, 2, 3, 1],\n",
       " [1, 2, 2, 1],\n",
       " [1, 2, 3, 1],\n",
       " [1, 3, 2, 3],\n",
       " [1, 2, 3, 1],\n",
       " [1, 2, 2, 3],\n",
       " [1, 2, 1, 1],\n",
       " [1, 2, 3, 1],\n",
       " [1, 2, 1, 1],\n",
       " [2, 2, 3, 3],\n",
       " [2, 2, 2, 3],\n",
       " [1, 2, 3, 1],\n",
       " [1, 2, 3, 1],\n",
       " [1, 2, 3, 1],\n",
       " [1, 3, 2, 1],\n",
       " [1, 2, 2, 1],\n",
       " [1, 2, 3, 1],\n",
       " [1, 2, 3, 1],\n",
       " [1, 2, 3, 1],\n",
       " [1, 2, 3, 3],\n",
       " [1, 2, 3, 1],\n",
       " [1, 2, 3, 1],\n",
       " [1, 2, 3, 1],\n",
       " [1, 1, 3, 1],\n",
       " [1, 2, 1, 1],\n",
       " [1, 3, 2, 1],\n",
       " [1, 3, 2, 3],\n",
       " [1, 2, 1, 1],\n",
       " [1, 2, 1, 1],\n",
       " [1, 3, 2, 1],\n",
       " [1, 2, 3, 1],\n",
       " [1, 2, 3, 1],\n",
       " [1, 2, 3, 1],\n",
       " [1, 2, 3, 1],\n",
       " [1, 2, 3, 1],\n",
       " [1, 2, 2, 3],\n",
       " [2, 1, 3, 1],\n",
       " [2, 2, 3, 1],\n",
       " [1, 2, 3, 3],\n",
       " [1, 2, 3, 1],\n",
       " [1, 2, 3, 1],\n",
       " [1, 2, 1, 1],\n",
       " [2, 2, 3, 1],\n",
       " [1, 2, 3, 1],\n",
       " [1, 2, 1, 1],\n",
       " [1, 2, 2, 3],\n",
       " [1, 2, 3, 3],\n",
       " [1, 2, 3, 1],\n",
       " [1, 2, 3, 1],\n",
       " [1, 3, 3, 3],\n",
       " [1, 2, 1, 1],\n",
       " [2, 2, 3, 1],\n",
       " [1, 2, 3, 3],\n",
       " [1, 2, 3, 3],\n",
       " [1, 2, 2, 1],\n",
       " [1, 3, 2, 1],\n",
       " [2, 2, 3, 1],\n",
       " [1, 2, 3, 3],\n",
       " [1, 2, 3, 1],\n",
       " [1, 2, 3, 1],\n",
       " [1, 2, 3, 3],\n",
       " [1, 2, 3, 1],\n",
       " [1, 1, 3, 1],\n",
       " [1, 2, 3, 3],\n",
       " [1, 3, 2, 1],\n",
       " [1, 2, 3, 3],\n",
       " [1, 1, 3, 1],\n",
       " [1, 2, 1, 1],\n",
       " [1, 1, 3, 1],\n",
       " [1, 3, 3, 1],\n",
       " [1, 2, 3, 3],\n",
       " [1, 2, 3, 1],\n",
       " [1, 2, 3, 3],\n",
       " [1, 3, 3, 3],\n",
       " [1, 3, 2, 1],\n",
       " [1, 2, 3, 1],\n",
       " [1, 2, 3, 1],\n",
       " [1, 2, 2, 1],\n",
       " [1, 2, 3, 1],\n",
       " [1, 2, 3, 1],\n",
       " [1, 2, 3, 1],\n",
       " [1, 2, 1, 1],\n",
       " [1, 2, 3, 1],\n",
       " [1, 2, 1, 1],\n",
       " [2, 3, 2, 3],\n",
       " [1, 2, 3, 1],\n",
       " [1, 2, 3, 3],\n",
       " [1, 3, 2, 3],\n",
       " [1, 2, 3, 1],\n",
       " [1, 2, 1, 1],\n",
       " [1, 2, 1, 1],\n",
       " [1, 2, 2, 3],\n",
       " [1, 2, 3, 1],\n",
       " [1, 2, 3, 1],\n",
       " [1, 2, 3, 1],\n",
       " [1, 3, 3, 1],\n",
       " [1, 1, 1, 1],\n",
       " [1, 2, 2, 3],\n",
       " [1, 1, 3, 1],\n",
       " [1, 2, 1, 1],\n",
       " [1, 2, 1, 1],\n",
       " [1, 2, 3, 3],\n",
       " [2, 2, 3, 1],\n",
       " [1, 2, 3, 3],\n",
       " [1, 2, 3, 1],\n",
       " [1, 3, 2, 3],\n",
       " [1, 3, 3, 1],\n",
       " [1, 2, 3, 3],\n",
       " [1, 2, 2, 3],\n",
       " [2, 1, 3, 1],\n",
       " [1, 3, 2, 3],\n",
       " [1, 2, 2, 3],\n",
       " [1, 2, 3, 1],\n",
       " [1, 2, 3, 1],\n",
       " [1, 2, 3, 1],\n",
       " [1, 2, 3, 1],\n",
       " [1, 2, 3, 3],\n",
       " [1, 2, 3, 3],\n",
       " [1, 3, 3, 1],\n",
       " [1, 2, 3, 1],\n",
       " [1, 2, 2, 3],\n",
       " [1, 3, 2, 1],\n",
       " [1, 2, 3, 1],\n",
       " [1, 2, 3, 1],\n",
       " [1, 2, 3, 3],\n",
       " [1, 2, 3, 3],\n",
       " [1, 1, 3, 1],\n",
       " [1, 2, 2, 3],\n",
       " [1, 2, 3, 3],\n",
       " [1, 2, 3, 1],\n",
       " [1, 2, 1, 1],\n",
       " [1, 2, 2, 3],\n",
       " [1, 2, 3, 3],\n",
       " [1, 2, 2, 3],\n",
       " [1, 2, 3, 3],\n",
       " [1, 2, 3, 1],\n",
       " [1, 3, 3, 1],\n",
       " [1, 2, 2, 3],\n",
       " [1, 2, 3, 3],\n",
       " [2, 1, 3, 1],\n",
       " [1, 2, 3, 3],\n",
       " [1, 1, 3, 3],\n",
       " [1, 2, 2, 3],\n",
       " [1, 3, 3, 1],\n",
       " [1, 2, 1, 1],\n",
       " [1, 2, 3, 1],\n",
       " [2, 2, 3, 1],\n",
       " [1, 3, 2, 1],\n",
       " [1, 3, 3, 1],\n",
       " [1, 2, 3, 3],\n",
       " [1, 1, 3, 3],\n",
       " [1, 1, 3, 3],\n",
       " [1, 1, 3, 1],\n",
       " [1, 2, 3, 1],\n",
       " [1, 2, 3, 1],\n",
       " [1, 2, 3, 1],\n",
       " [1, 2, 1, 1],\n",
       " [1, 3, 3, 1],\n",
       " [1, 2, 3, 3],\n",
       " [1, 3, 2, 1],\n",
       " [1, 1, 3, 1],\n",
       " [2, 2, 3, 3],\n",
       " [1, 3, 2, 3],\n",
       " [1, 2, 3, 1],\n",
       " [1, 2, 2, 3],\n",
       " [1, 3, 3, 1],\n",
       " [1, 2, 3, 3],\n",
       " [1, 2, 3, 3],\n",
       " [1, 2, 3, 1],\n",
       " [1, 2, 3, 3],\n",
       " [1, 1, 3, 3],\n",
       " [1, 2, 3, 1],\n",
       " [1, 2, 3, 1],\n",
       " [1, 2, 3, 3],\n",
       " [1, 3, 2, 3],\n",
       " [1, 3, 3, 1],\n",
       " [1, 2, 3, 1],\n",
       " [1, 2, 3, 1],\n",
       " [1, 2, 3, 1],\n",
       " [1, 2, 3, 1],\n",
       " [1, 3, 3, 1],\n",
       " [2, 2, 1, 1],\n",
       " [1, 2, 2, 1],\n",
       " [1, 2, 3, 1],\n",
       " [1, 2, 3, 1],\n",
       " [2, 2, 3, 3],\n",
       " [1, 2, 3, 3],\n",
       " [1, 2, 3, 1],\n",
       " [1, 2, 3, 1],\n",
       " [1, 2, 3, 1],\n",
       " [1, 2, 3, 1],\n",
       " [1, 3, 2, 3],\n",
       " [1, 3, 2, 3],\n",
       " [1, 2, 3, 1],\n",
       " [1, 2, 3, 1],\n",
       " [1, 3, 2, 3],\n",
       " [1, 2, 3, 1],\n",
       " [1, 2, 1, 1],\n",
       " [1, 2, 3, 3],\n",
       " [1, 2, 2, 3],\n",
       " [1, 2, 1, 1],\n",
       " [1, 3, 2, 3],\n",
       " [1, 2, 3, 1],\n",
       " [1, 2, 2, 3],\n",
       " [1, 2, 2, 3],\n",
       " [1, 2, 3, 1],\n",
       " [1, 2, 3, 3],\n",
       " [1, 2, 3, 1],\n",
       " [1, 1, 3, 1],\n",
       " [2, 2, 3, 3],\n",
       " [1, 2, 3, 1],\n",
       " [1, 2, 2, 3],\n",
       " [1, 1, 1, 1],\n",
       " [1, 2, 3, 1],\n",
       " [1, 3, 3, 1],\n",
       " [1, 1, 3, 1],\n",
       " [1, 1, 1, 1],\n",
       " [1, 2, 3, 3],\n",
       " [1, 2, 3, 1],\n",
       " [1, 2, 3, 1],\n",
       " [1, 1, 3, 3],\n",
       " [1, 3, 2, 3],\n",
       " [1, 2, 3, 1],\n",
       " [1, 2, 3, 1],\n",
       " [1, 2, 3, 3],\n",
       " [1, 2, 3, 1],\n",
       " [2, 2, 3, 3],\n",
       " [1, 2, 1, 1],\n",
       " [1, 2, 3, 1],\n",
       " [1, 2, 3, 1],\n",
       " [1, 2, 2, 3],\n",
       " [2, 1, 3, 3],\n",
       " [1, 2, 3, 3],\n",
       " [1, 2, 3, 1],\n",
       " [1, 1, 3, 3],\n",
       " [1, 2, 3, 1],\n",
       " [2, 1, 3, 3],\n",
       " [1, 2, 3, 1],\n",
       " [1, 2, 3, 1],\n",
       " [1, 2, 2, 3],\n",
       " [1, 2, 1, 1],\n",
       " [1, 2, 1, 1],\n",
       " [1, 2, 2, 3],\n",
       " [1, 1, 3, 1],\n",
       " [1, 2, 3, 1],\n",
       " [1, 3, 3, 1],\n",
       " [2, 2, 3, 1],\n",
       " [1, 2, 3, 1],\n",
       " [1, 2, 3, 1],\n",
       " [1, 3, 2, 1],\n",
       " [1, 2, 3, 1],\n",
       " [1, 2, 3, 1],\n",
       " [1, 2, 3, 1],\n",
       " [1, 2, 3, 1],\n",
       " [1, 2, 3, 1],\n",
       " [1, 2, 3, 1],\n",
       " [1, 2, 3, 1],\n",
       " [1, 2, 3, 1],\n",
       " [1, 2, 1, 1],\n",
       " [1, 2, 2, 3],\n",
       " [1, 2, 2, 3],\n",
       " [1, 2, 3, 1],\n",
       " [1, 2, 2, 3],\n",
       " [1, 2, 3, 1],\n",
       " [1, 1, 2, 3],\n",
       " [1, 2, 3, 1],\n",
       " [1, 3, 2, 3],\n",
       " [1, 2, 1, 1],\n",
       " [1, 2, 3, 3],\n",
       " [1, 3, 2, 3],\n",
       " [1, 2, 2, 3],\n",
       " [1, 2, 3, 1],\n",
       " [1, 2, 3, 3],\n",
       " [1, 2, 3, 1],\n",
       " [1, 2, 1, 1],\n",
       " [1, 2, 3, 3],\n",
       " [1, 2, 3, 3],\n",
       " [1, 2, 1, 1],\n",
       " [1, 2, 3, 1],\n",
       " [1, 2, 1, 1],\n",
       " [1, 2, 3, 3],\n",
       " [1, 2, 2, 1],\n",
       " [1, 2, 3, 1],\n",
       " [1, 2, 2, 3],\n",
       " [1, 2, 3, 1],\n",
       " [1, 2, 3, 1],\n",
       " [1, 2, 3, 3],\n",
       " [1, 2, 3, 3],\n",
       " [1, 3, 3, 1],\n",
       " [1, 1, 3, 1],\n",
       " [1, 1, 3, 1],\n",
       " [1, 2, 3, 1],\n",
       " [1, 2, 3, 1],\n",
       " [1, 2, 3, 1],\n",
       " [1, 2, 3, 1],\n",
       " [1, 2, 3, 3],\n",
       " [1, 2, 1, 1],\n",
       " [1, 3, 3, 1],\n",
       " [1, 2, 3, 1],\n",
       " [1, 3, 2, 3],\n",
       " [1, 3, 3, 1],\n",
       " [1, 3, 3, 3],\n",
       " [1, 2, 3, 3],\n",
       " [1, 2, 3, 1],\n",
       " [1, 2, 3, 1],\n",
       " [1, 2, 2, 3],\n",
       " [1, 1, 3, 3],\n",
       " [1, 3, 2, 3],\n",
       " [1, 3, 2, 3],\n",
       " [1, 2, 3, 1],\n",
       " [1, 3, 2, 3],\n",
       " [1, 1, 3, 1],\n",
       " [1, 1, 3, 3],\n",
       " [1, 2, 1, 1],\n",
       " [1, 2, 3, 1],\n",
       " [1, 2, 3, 1],\n",
       " [1, 2, 3, 3],\n",
       " [1, 2, 3, 3],\n",
       " [1, 2, 3, 1],\n",
       " [1, 2, 1, 1],\n",
       " [1, 1, 3, 1],\n",
       " [1, 1, 1, 1],\n",
       " [1, 2, 1, 1],\n",
       " [1, 2, 3, 3],\n",
       " [1, 1, 3, 3],\n",
       " [2, 2, 3, 3],\n",
       " [1, 2, 1, 1],\n",
       " [1, 3, 3, 3],\n",
       " [1, 2, 3, 1],\n",
       " [1, 2, 3, 3],\n",
       " [2, 1, 3, 1],\n",
       " [1, 3, 3, 1],\n",
       " [1, 2, 2, 3],\n",
       " [1, 2, 2, 1],\n",
       " [1, 3, 2, 3],\n",
       " [1, 2, 2, 3],\n",
       " [1, 2, 3, 1],\n",
       " [1, 2, 3, 3],\n",
       " [1, 2, 3, 3],\n",
       " [1, 3, 2, 3],\n",
       " [1, 2, 2, 3],\n",
       " [1, 1, 3, 1],\n",
       " [1, 2, 3, 1],\n",
       " [1, 2, 2, 3],\n",
       " [1, 2, 1, 1],\n",
       " [1, 2, 3, 1],\n",
       " [1, 2, 3, 1],\n",
       " [1, 2, 3, 1],\n",
       " [1, 2, 2, 3],\n",
       " [1, 2, 3, 1],\n",
       " [2, 2, 3, 1],\n",
       " [1, 2, 3, 3],\n",
       " [1, 1, 1, 1],\n",
       " [1, 2, 3, 1],\n",
       " [1, 2, 2, 3],\n",
       " [1, 2, 3, 1],\n",
       " [1, 2, 3, 1],\n",
       " [1, 2, 3, 1],\n",
       " [1, 2, 3, 1],\n",
       " [1, 2, 3, 1],\n",
       " [1, 2, 3, 1],\n",
       " [1, 2, 3, 1],\n",
       " [1, 2, 3, 3],\n",
       " [1, 3, 2, 3],\n",
       " [1, 2, 2, 3],\n",
       " [1, 2, 3, 1],\n",
       " [2, 2, 1, 1],\n",
       " [1, 2, 3, 3],\n",
       " [1, 2, 3, 1],\n",
       " [1, 2, 1, 1],\n",
       " [1, 2, 3, 1],\n",
       " [1, 3, 3, 3],\n",
       " [1, 2, 3, 1],\n",
       " [1, 2, 3, 1],\n",
       " [1, 2, 3, 3],\n",
       " [1, 2, 1, 1],\n",
       " [1, 2, 3, 1],\n",
       " [1, 2, 3, 1],\n",
       " [1, 2, 3, 1],\n",
       " [1, 2, 3, 1],\n",
       " [1, 2, 3, 3],\n",
       " [1, 2, 3, 1],\n",
       " [1, 2, 3, 1],\n",
       " [1, 2, 2, 3],\n",
       " [1, 2, 2, 3],\n",
       " [1, 2, 1, 1],\n",
       " [1, 2, 3, 1],\n",
       " [1, 2, 3, 1],\n",
       " [1, 2, 3, 1],\n",
       " [1, 2, 3, 1],\n",
       " [2, 2, 3, 1],\n",
       " [1, 1, 3, 1],\n",
       " [1, 3, 3, 1],\n",
       " [1, 2, 1, 1],\n",
       " [1, 3, 2, 3],\n",
       " [1, 2, 3, 1],\n",
       " [1, 3, 3, 1],\n",
       " [1, 1, 3, 1],\n",
       " [1, 3, 3, 1],\n",
       " [1, 2, 3, 1],\n",
       " [1, 3, 3, 1],\n",
       " [1, 2, 3, 3],\n",
       " [1, 3, 2, 3],\n",
       " [1, 2, 3, 1],\n",
       " [2, 2, 1, 1],\n",
       " [1, 2, 3, 1],\n",
       " [2, 2, 3, 3],\n",
       " [1, 3, 3, 1],\n",
       " [2, 1, 3, 3],\n",
       " [1, 2, 3, 1],\n",
       " [1, 2, 3, 1],\n",
       " [2, 1, 3, 3],\n",
       " [1, 2, 3, 3],\n",
       " [1, 3, 2, 1],\n",
       " [1, 1, 3, 1],\n",
       " [1, 2, 3, 1],\n",
       " [2, 1, 2, 3],\n",
       " [1, 2, 3, 1],\n",
       " [1, 2, 3, 1],\n",
       " [1, 3, 2, 1],\n",
       " [1, 2, 3, 1],\n",
       " [1, 2, 3, 1],\n",
       " [1, 2, 1, 1],\n",
       " [1, 2, 3, 3],\n",
       " [1, 2, 3, 1],\n",
       " [1, 2, 3, 1],\n",
       " [1, 2, 2, 1],\n",
       " [1, 3, 3, 3],\n",
       " [1, 3, 3, 1],\n",
       " [1, 2, 2, 1],\n",
       " [1, 3, 3, 1],\n",
       " [1, 1, 3, 1],\n",
       " [1, 2, 1, 1],\n",
       " [1, 2, 3, 1],\n",
       " [1, 2, 1, 1],\n",
       " [2, 2, 3, 1],\n",
       " [1, 3, 3, 1],\n",
       " [1, 2, 3, 3],\n",
       " [1, 1, 3, 1],\n",
       " [1, 2, 2, 3],\n",
       " [1, 2, 2, 3],\n",
       " [1, 2, 1, 1],\n",
       " [1, 2, 2, 1],\n",
       " [2, 2, 2, 3],\n",
       " [1, 2, 3, 1],\n",
       " [2, 1, 1, 1],\n",
       " [1, 3, 3, 1],\n",
       " [1, 3, 3, 1],\n",
       " [1, 2, 3, 1],\n",
       " [1, 1, 1, 1],\n",
       " [1, 2, 3, 1],\n",
       " [1, 3, 2, 3],\n",
       " [1, 3, 3, 1],\n",
       " [1, 2, 3, 1],\n",
       " [1, 2, 2, 3],\n",
       " [1, 2, 3, 1],\n",
       " [2, 2, 3, 1],\n",
       " [1, 3, 2, 3],\n",
       " [1, 1, 3, 3],\n",
       " [1, 2, 1, 1],\n",
       " [1, 2, 2, 1],\n",
       " [1, 2, 3, 1],\n",
       " [1, 2, 3, 1],\n",
       " [2, 2, 3, 3],\n",
       " [1, 2, 3, 1],\n",
       " [1, 2, 3, 1],\n",
       " [1, 2, 3, 1],\n",
       " [1, 2, 3, 1],\n",
       " [1, 3, 3, 3],\n",
       " [1, 2, 3, 1],\n",
       " [1, 2, 2, 1],\n",
       " [1, 2, 3, 1],\n",
       " [1, 3, 3, 1],\n",
       " [1, 2, 3, 3],\n",
       " [1, 2, 2, 3],\n",
       " [1, 1, 3, 1],\n",
       " [1, 2, 3, 1],\n",
       " [1, 2, 3, 1],\n",
       " [1, 2, 3, 3],\n",
       " [1, 2, 3, 1],\n",
       " [1, 1, 1, 1],\n",
       " [1, 2, 3, 1],\n",
       " [1, 1, 3, 3],\n",
       " [1, 3, 3, 1],\n",
       " [1, 2, 3, 1],\n",
       " [1, 1, 3, 1],\n",
       " [1, 2, 2, 3],\n",
       " [1, 2, 3, 3],\n",
       " [1, 2, 3, 1],\n",
       " [1, 1, 3, 3],\n",
       " [1, 1, 2, 3],\n",
       " [1, 1, 3, 3],\n",
       " [1, 2, 1, 1],\n",
       " [1, 2, 3, 1],\n",
       " [2, 1, 3, 3],\n",
       " [1, 2, 3, 1],\n",
       " [1, 2, 3, 1],\n",
       " [1, 2, 2, 3],\n",
       " [1, 3, 3, 1],\n",
       " [1, 2, 2, 3],\n",
       " [1, 2, 3, 1],\n",
       " [1, 3, 3, 1],\n",
       " [1, 2, 1, 1],\n",
       " [1, 2, 3, 1],\n",
       " [2, 1, 3, 1],\n",
       " [1, 2, 2, 3],\n",
       " [1, 2, 3, 1],\n",
       " [1, 2, 3, 3],\n",
       " [1, 2, 3, 3],\n",
       " [1, 2, 3, 1],\n",
       " [1, 3, 3, 1],\n",
       " [1, 1, 3, 3],\n",
       " [1, 3, 3, 1],\n",
       " [1, 3, 3, 1],\n",
       " [1, 2, 3, 1],\n",
       " [1, 2, 3, 1],\n",
       " [1, 2, 3, 1],\n",
       " [1, 2, 3, 3],\n",
       " [1, 2, 3, 1],\n",
       " [1, 2, 3, 1],\n",
       " [1, 2, 3, 1],\n",
       " [1, 2, 2, 1],\n",
       " [1, 2, 2, 3],\n",
       " [1, 2, 3, 1],\n",
       " [1, 2, 2, 3],\n",
       " [1, 1, 3, 1],\n",
       " [1, 2, 3, 1],\n",
       " [1, 2, 3, 1],\n",
       " [1, 2, 3, 3],\n",
       " [1, 1, 3, 1],\n",
       " [1, 2, 3, 1],\n",
       " [1, 2, 3, 1],\n",
       " [1, 3, 2, 3],\n",
       " [1, 1, 3, 1],\n",
       " [1, 3, 3, 3],\n",
       " [1, 2, 3, 1],\n",
       " [1, 2, 2, 1],\n",
       " [1, 2, 3, 1],\n",
       " [1, 2, 3, 1],\n",
       " [1, 2, 3, 1],\n",
       " [1, 3, 2, 3],\n",
       " [1, 3, 3, 1],\n",
       " [1, 2, 2, 3],\n",
       " [1, 2, 3, 1],\n",
       " [1, 2, 2, 3],\n",
       " [2, 2, 3, 1],\n",
       " [1, 3, 2, 1],\n",
       " [1, 3, 3, 3],\n",
       " [1, 1, 3, 3],\n",
       " [2, 1, 3, 3],\n",
       " [1, 3, 3, 1],\n",
       " [1, 2, 3, 1],\n",
       " [1, 3, 2, 3],\n",
       " [1, 2, 2, 3],\n",
       " [1, 1, 3, 1],\n",
       " [1, 2, 3, 1],\n",
       " [1, 1, 3, 1],\n",
       " [1, 3, 2, 3],\n",
       " [1, 2, 1, 1],\n",
       " [1, 3, 2, 3],\n",
       " [1, 1, 3, 1],\n",
       " [1, 2, 3, 1],\n",
       " [2, 2, 3, 1],\n",
       " [1, 2, 3, 1],\n",
       " [1, 2, 3, 3],\n",
       " [1, 2, 2, 3],\n",
       " [1, 2, 1, 1],\n",
       " [1, 2, 2, 3],\n",
       " [1, 1, 3, 3],\n",
       " [1, 3, 2, 3],\n",
       " [1, 3, 2, 3],\n",
       " [1, 1, 2, 3],\n",
       " [1, 2, 3, 1],\n",
       " [1, 2, 3, 1],\n",
       " [1, 1, 1, 1],\n",
       " [1, 2, 2, 1],\n",
       " [1, 2, 3, 1],\n",
       " [1, 2, 3, 1],\n",
       " [1, 2, 2, 3],\n",
       " [2, 2, 2, 3],\n",
       " [1, 3, 2, 3],\n",
       " [1, 3, 3, 1],\n",
       " [1, 2, 3, 3],\n",
       " [1, 2, 3, 1],\n",
       " [1, 2, 2, 3],\n",
       " [1, 2, 3, 3],\n",
       " [1, 1, 3, 1],\n",
       " [2, 2, 1, 1],\n",
       " [1, 2, 3, 3],\n",
       " [1, 3, 2, 3],\n",
       " [1, 2, 3, 1],\n",
       " [1, 2, 3, 1],\n",
       " [1, 2, 1, 1],\n",
       " [2, 2, 3, 1],\n",
       " [1, 2, 1, 1],\n",
       " [1, 2, 2, 3],\n",
       " [1, 2, 3, 1],\n",
       " [1, 3, 3, 1],\n",
       " [1, 2, 3, 1],\n",
       " [1, 3, 3, 1],\n",
       " [1, 1, 3, 3],\n",
       " [1, 2, 3, 1],\n",
       " [1, 2, 3, 1],\n",
       " [1, 2, 3, 1],\n",
       " [1, 2, 3, 3],\n",
       " [1, 2, 2, 3],\n",
       " [1, 3, 3, 3],\n",
       " [1, 2, 1, 1],\n",
       " [1, 2, 3, 1],\n",
       " [1, 2, 3, 1],\n",
       " [1, 2, 3, 1],\n",
       " [1, 2, 3, 1],\n",
       " [1, 1, 3, 1],\n",
       " [1, 2, 3, 1],\n",
       " [1, 2, 2, 3],\n",
       " [1, 2, 1, 1],\n",
       " [1, 2, 1, 1],\n",
       " [1, 3, 2, 3],\n",
       " [1, 1, 3, 3],\n",
       " [1, 3, 3, 3],\n",
       " [1, 2, 3, 1],\n",
       " [1, 2, 3, 1],\n",
       " [1, 2, 3, 3],\n",
       " [1, 3, 3, 3],\n",
       " [1, 3, 3, 1],\n",
       " [1, 2, 3, 1],\n",
       " [1, 2, 1, 1],\n",
       " [1, 3, 2, 1],\n",
       " [1, 3, 2, 1],\n",
       " [1, 3, 3, 1],\n",
       " [1, 2, 2, 3],\n",
       " [1, 3, 3, 3],\n",
       " [1, 2, 3, 1],\n",
       " [1, 2, 3, 1],\n",
       " [1, 2, 2, 1],\n",
       " [1, 2, 3, 1],\n",
       " [1, 3, 3, 3],\n",
       " [1, 2, 3, 3],\n",
       " [1, 2, 3, 3],\n",
       " [1, 1, 3, 3],\n",
       " [1, 2, 3, 1],\n",
       " [1, 3, 3, 3],\n",
       " [1, 2, 3, 1],\n",
       " [1, 3, 2, 3],\n",
       " [1, 3, 2, 3],\n",
       " [1, 3, 3, 3],\n",
       " [1, 2, 3, 3],\n",
       " [1, 1, 3, 1],\n",
       " [1, 3, 2, 3],\n",
       " [1, 2, 2, 3],\n",
       " [1, 2, 3, 3],\n",
       " [1, 1, 3, 3],\n",
       " [1, 1, 3, 1],\n",
       " [1, 2, 3, 1],\n",
       " [1, 2, 3, 1],\n",
       " [2, 1, 3, 1],\n",
       " [1, 2, 3, 1],\n",
       " [1, 2, 2, 3],\n",
       " [1, 2, 3, 1],\n",
       " [1, 1, 3, 3],\n",
       " [1, 2, 3, 3],\n",
       " [1, 2, 2, 3],\n",
       " [1, 2, 3, 3],\n",
       " [1, 2, 3, 1],\n",
       " [1, 2, 3, 1],\n",
       " [1, 1, 3, 3],\n",
       " [1, 2, 3, 1],\n",
       " [1, 1, 3, 1],\n",
       " [2, 2, 3, 3],\n",
       " [1, 2, 3, 1],\n",
       " [1, 2, 3, 1],\n",
       " [1, 1, 1, 1],\n",
       " [1, 2, 3, 1],\n",
       " [1, 3, 2, 3],\n",
       " [1, 2, 3, 1],\n",
       " [1, 2, 1, 1],\n",
       " [1, 2, 3, 1],\n",
       " [1, 3, 3, 1],\n",
       " [1, 3, 3, 3],\n",
       " [1, 2, 3, 1],\n",
       " [1, 2, 3, 1],\n",
       " [1, 2, 3, 3],\n",
       " [1, 2, 1, 1],\n",
       " [1, 2, 3, 3],\n",
       " [1, 3, 3, 1],\n",
       " [1, 1, 1, 1],\n",
       " [1, 2, 3, 3],\n",
       " [1, 2, 3, 1],\n",
       " [1, 2, 2, 3],\n",
       " [1, 2, 3, 3],\n",
       " [1, 2, 2, 1],\n",
       " [1, 2, 3, 3],\n",
       " [1, 2, 1, 1],\n",
       " [2, 2, 3, 1],\n",
       " [1, 2, 3, 1],\n",
       " [2, 2, 3, 1],\n",
       " [1, 2, 3, 1],\n",
       " [1, 3, 2, 1],\n",
       " [1, 2, 3, 1],\n",
       " [1, 3, 2, 3],\n",
       " [2, 1, 3, 3],\n",
       " [1, 2, 3, 1],\n",
       " [1, 2, 3, 1],\n",
       " [1, 3, 3, 1],\n",
       " [1, 2, 1, 1],\n",
       " [2, 2, 3, 3],\n",
       " [1, 2, 3, 1],\n",
       " [1, 2, 1, 1],\n",
       " [1, 2, 3, 1],\n",
       " [1, 2, 3, 1],\n",
       " [1, 3, 3, 1],\n",
       " [1, 2, 3, 1],\n",
       " [1, 1, 3, 1],\n",
       " [1, 2, 3, 3],\n",
       " [1, 2, 2, 3],\n",
       " [1, 3, 3, 1],\n",
       " [1, 3, 3, 1],\n",
       " [1, 2, 3, 1],\n",
       " [1, 2, 2, 3],\n",
       " [1, 2, 3, 1],\n",
       " [1, 1, 3, 3],\n",
       " [1, 2, 3, 1],\n",
       " [1, 2, 1, 1],\n",
       " [1, 2, 3, 1],\n",
       " [1, 1, 3, 1],\n",
       " [1, 2, 1, 1],\n",
       " [1, 3, 2, 3],\n",
       " [1, 3, 2, 3],\n",
       " [1, 2, 3, 1],\n",
       " [1, 3, 3, 3],\n",
       " [1, 3, 3, 1],\n",
       " [1, 2, 3, 1],\n",
       " [1, 1, 3, 1],\n",
       " [1, 2, 3, 1],\n",
       " [1, 2, 2, 3],\n",
       " [1, 2, 3, 1],\n",
       " [1, 2, 3, 3],\n",
       " [1, 2, 2, 1],\n",
       " [1, 1, 2, 3],\n",
       " [1, 2, 3, 1],\n",
       " [1, 2, 3, 3],\n",
       " [1, 3, 3, 1],\n",
       " [2, 2, 1, 1],\n",
       " [1, 2, 3, 1],\n",
       " [1, 2, 3, 1],\n",
       " [1, 2, 1, 1],\n",
       " [1, 2, 2, 3],\n",
       " [1, 2, 1, 1],\n",
       " [1, 2, 3, 1],\n",
       " [1, 2, 3, 1],\n",
       " [1, 3, 3, 1],\n",
       " [1, 3, 3, 1],\n",
       " [1, 1, 3, 1],\n",
       " [1, 2, 3, 1],\n",
       " [1, 2, 3, 3],\n",
       " ...]"
      ]
     },
     "execution_count": 62,
     "metadata": {},
     "output_type": "execute_result"
    }
   ],
   "source": [
    "for_test"
   ]
  },
  {
   "cell_type": "code",
   "execution_count": 63,
   "id": "c3ebf33f",
   "metadata": {},
   "outputs": [
    {
     "data": {
      "text/plain": [
       "54"
      ]
     },
     "execution_count": 63,
     "metadata": {},
     "output_type": "execute_result"
    }
   ],
   "source": [
    "len(rest)"
   ]
  },
  {
   "cell_type": "code",
   "execution_count": 64,
   "id": "b0829ece",
   "metadata": {},
   "outputs": [
    {
     "data": {
      "text/plain": [
       "54"
      ]
     },
     "execution_count": 64,
     "metadata": {},
     "output_type": "execute_result"
    }
   ],
   "source": [
    "len(all_co)"
   ]
  },
  {
   "cell_type": "code",
   "execution_count": 69,
   "id": "9eaaef56",
   "metadata": {},
   "outputs": [
    {
     "name": "stdout",
     "output_type": "stream",
     "text": [
      "['[1, 1, 1, 1]', '[1, 1, 1, 2]', '[1, 1, 1, 3]', '[1, 1, 2, 1]', '[1, 1, 2, 2]', '[1, 1, 2, 3]', '[1, 1, 3, 1]', '[1, 1, 3, 2]', '[1, 1, 3, 3]', '[1, 2, 1, 1]', '[1, 2, 1, 2]', '[1, 2, 1, 3]', '[1, 2, 2, 1]', '[1, 2, 2, 2]', '[1, 2, 2, 3]', '[1, 2, 3, 1]', '[1, 2, 3, 2]', '[1, 2, 3, 3]', '[1, 3, 1, 1]', '[1, 3, 1, 2]', '[1, 3, 1, 3]', '[1, 3, 2, 1]', '[1, 3, 2, 2]', '[1, 3, 2, 3]', '[1, 3, 3, 1]', '[1, 3, 3, 2]', '[1, 3, 3, 3]', '[2, 1, 1, 1]', '[2, 1, 1, 2]', '[2, 1, 1, 3]', '[2, 1, 2, 1]', '[2, 1, 2, 2]', '[2, 1, 2, 3]', '[2, 1, 3, 1]', '[2, 1, 3, 2]', '[2, 1, 3, 3]', '[2, 2, 1, 1]', '[2, 2, 1, 2]', '[2, 2, 1, 3]', '[2, 2, 2, 1]', '[2, 2, 2, 2]', '[2, 2, 2, 3]', '[2, 2, 3, 1]', '[2, 2, 3, 2]', '[2, 2, 3, 3]', '[2, 3, 1, 1]', '[2, 3, 1, 2]', '[2, 3, 1, 3]', '[2, 3, 2, 1]', '[2, 3, 2, 2]', '[2, 3, 2, 3]', '[2, 3, 3, 1]', '[2, 3, 3, 2]', '[2, 3, 3, 3]']\n"
     ]
    }
   ],
   "source": [
    "for i in range(len(all_co)):\n",
    "    all_co[i] = str(all_co[i])\n",
    "print(all_co)"
   ]
  },
  {
   "cell_type": "code",
   "execution_count": 72,
   "id": "7dd891c6",
   "metadata": {},
   "outputs": [],
   "source": [
    "for i in for_test:\n",
    "    ready_note = dict(zip(all_co,rest))\n"
   ]
  },
  {
   "cell_type": "code",
   "execution_count": 81,
   "id": "387e23e6",
   "metadata": {},
   "outputs": [],
   "source": [
    "final_all_out = []\n",
    "for i in for_test:\n",
    "    final_all_out.append(ready_note[str(i)])\n",
    "for i in range(len(final_all_out)):\n",
    "    if(float(final_all_out[i])>0.5):\n",
    "        final_all_out[i]=2\n",
    "    else:\n",
    "        final_all_out[i]=1"
   ]
  },
  {
   "cell_type": "code",
   "execution_count": 82,
   "id": "26936ba5",
   "metadata": {},
   "outputs": [
    {
     "name": "stdout",
     "output_type": "stream",
     "text": [
      "0.7916397085712679\n"
     ]
    }
   ],
   "source": [
    "from sklearn.metrics import accuracy_score\n",
    "acc = accuracy_score(final_all_out, val_for_te)\n",
    "print(acc)"
   ]
  },
  {
   "cell_type": "markdown",
   "id": "b4c8f02b",
   "metadata": {},
   "source": [
    "### Accuracy is 0.7916"
   ]
  },
  {
   "cell_type": "code",
   "execution_count": null,
   "id": "c5bdd900",
   "metadata": {},
   "outputs": [],
   "source": []
  },
  {
   "cell_type": "code",
   "execution_count": null,
   "id": "298e3711",
   "metadata": {},
   "outputs": [],
   "source": []
  },
  {
   "cell_type": "code",
   "execution_count": null,
   "id": "8eb37f41",
   "metadata": {},
   "outputs": [],
   "source": []
  },
  {
   "cell_type": "code",
   "execution_count": null,
   "id": "08a3dcac",
   "metadata": {},
   "outputs": [],
   "source": []
  },
  {
   "cell_type": "code",
   "execution_count": null,
   "id": "3dd128be",
   "metadata": {},
   "outputs": [],
   "source": []
  },
  {
   "cell_type": "code",
   "execution_count": null,
   "id": "1e096beb",
   "metadata": {},
   "outputs": [],
   "source": []
  },
  {
   "cell_type": "markdown",
   "id": "782078de",
   "metadata": {},
   "source": [
    "# Accuracy Model -3"
   ]
  },
  {
   "cell_type": "code",
   "execution_count": 92,
   "id": "b4079eed",
   "metadata": {
    "collapsed": true
   },
   "outputs": [
    {
     "data": {
      "application/vnd.jupyter.widget-view+json": {
       "model_id": "a29cc0cd4bfe490abe6abd234da93bde",
       "version_major": 2,
       "version_minor": 0
      },
      "text/plain": [
       "  0%|          | 0/11 [00:00<?, ?it/s]"
      ]
     },
     "metadata": {},
     "output_type": "display_data"
    },
    {
     "data": {
      "application/vnd.jupyter.widget-view+json": {
       "model_id": "6fadab82dd024584b386210a52a2b142",
       "version_major": 2,
       "version_minor": 0
      },
      "text/plain": [
       "  0%|          | 0/11 [00:00<?, ?it/s]"
      ]
     },
     "metadata": {},
     "output_type": "display_data"
    },
    {
     "data": {
      "application/vnd.jupyter.widget-view+json": {
       "model_id": "a824399e4da04fe698cbac103e406b21",
       "version_major": 2,
       "version_minor": 0
      },
      "text/plain": [
       "  0%|          | 0/11 [00:00<?, ?it/s]"
      ]
     },
     "metadata": {},
     "output_type": "display_data"
    },
    {
     "data": {
      "application/vnd.jupyter.widget-view+json": {
       "model_id": "7607eda44c9e444a9a4fabdd269a5c8c",
       "version_major": 2,
       "version_minor": 0
      },
      "text/plain": [
       "  0%|          | 0/11 [00:00<?, ?it/s]"
      ]
     },
     "metadata": {},
     "output_type": "display_data"
    },
    {
     "data": {
      "application/vnd.jupyter.widget-view+json": {
       "model_id": "bfb910b0f7874fc18a823fe48d28ec44",
       "version_major": 2,
       "version_minor": 0
      },
      "text/plain": [
       "  0%|          | 0/11 [00:00<?, ?it/s]"
      ]
     },
     "metadata": {},
     "output_type": "display_data"
    },
    {
     "data": {
      "application/vnd.jupyter.widget-view+json": {
       "model_id": "c05540a67eb040c9a24c9c011cc48bce",
       "version_major": 2,
       "version_minor": 0
      },
      "text/plain": [
       "  0%|          | 0/11 [00:00<?, ?it/s]"
      ]
     },
     "metadata": {},
     "output_type": "display_data"
    },
    {
     "data": {
      "application/vnd.jupyter.widget-view+json": {
       "model_id": "e916535cf22a450ba0f34b5cef3d1ab1",
       "version_major": 2,
       "version_minor": 0
      },
      "text/plain": [
       "  0%|          | 0/11 [00:00<?, ?it/s]"
      ]
     },
     "metadata": {},
     "output_type": "display_data"
    },
    {
     "data": {
      "application/vnd.jupyter.widget-view+json": {
       "model_id": "cc8f50499093489e9fdb061164d418dd",
       "version_major": 2,
       "version_minor": 0
      },
      "text/plain": [
       "  0%|          | 0/11 [00:00<?, ?it/s]"
      ]
     },
     "metadata": {},
     "output_type": "display_data"
    },
    {
     "data": {
      "application/vnd.jupyter.widget-view+json": {
       "model_id": "83a6386e416b44918ba1575eb2a8c087",
       "version_major": 2,
       "version_minor": 0
      },
      "text/plain": [
       "  0%|          | 0/11 [00:00<?, ?it/s]"
      ]
     },
     "metadata": {},
     "output_type": "display_data"
    },
    {
     "data": {
      "application/vnd.jupyter.widget-view+json": {
       "model_id": "0f47a31ebc364564bd176a83a44f9e51",
       "version_major": 2,
       "version_minor": 0
      },
      "text/plain": [
       "  0%|          | 0/11 [00:00<?, ?it/s]"
      ]
     },
     "metadata": {},
     "output_type": "display_data"
    },
    {
     "data": {
      "application/vnd.jupyter.widget-view+json": {
       "model_id": "311a93976d664bc2be0edfdbc7357d1b",
       "version_major": 2,
       "version_minor": 0
      },
      "text/plain": [
       "  0%|          | 0/11 [00:00<?, ?it/s]"
      ]
     },
     "metadata": {},
     "output_type": "display_data"
    },
    {
     "data": {
      "application/vnd.jupyter.widget-view+json": {
       "model_id": "e20526f2db4f4f21a0b96aaf896f1186",
       "version_major": 2,
       "version_minor": 0
      },
      "text/plain": [
       "  0%|          | 0/11 [00:00<?, ?it/s]"
      ]
     },
     "metadata": {},
     "output_type": "display_data"
    },
    {
     "data": {
      "application/vnd.jupyter.widget-view+json": {
       "model_id": "9dfcee90140c4a629e23c2004775aa1a",
       "version_major": 2,
       "version_minor": 0
      },
      "text/plain": [
       "  0%|          | 0/11 [00:00<?, ?it/s]"
      ]
     },
     "metadata": {},
     "output_type": "display_data"
    },
    {
     "data": {
      "application/vnd.jupyter.widget-view+json": {
       "model_id": "37dd94e9b142486c8bb68483f7b883f8",
       "version_major": 2,
       "version_minor": 0
      },
      "text/plain": [
       "  0%|          | 0/11 [00:00<?, ?it/s]"
      ]
     },
     "metadata": {},
     "output_type": "display_data"
    },
    {
     "data": {
      "application/vnd.jupyter.widget-view+json": {
       "model_id": "55f4dc7890384826b43e3b3081dbb6bb",
       "version_major": 2,
       "version_minor": 0
      },
      "text/plain": [
       "  0%|          | 0/11 [00:00<?, ?it/s]"
      ]
     },
     "metadata": {},
     "output_type": "display_data"
    },
    {
     "data": {
      "application/vnd.jupyter.widget-view+json": {
       "model_id": "379dad94d7df47b3b437140d9f8af769",
       "version_major": 2,
       "version_minor": 0
      },
      "text/plain": [
       "  0%|          | 0/11 [00:00<?, ?it/s]"
      ]
     },
     "metadata": {},
     "output_type": "display_data"
    },
    {
     "data": {
      "application/vnd.jupyter.widget-view+json": {
       "model_id": "b7df2884265d4641982de18f1240c893",
       "version_major": 2,
       "version_minor": 0
      },
      "text/plain": [
       "  0%|          | 0/11 [00:00<?, ?it/s]"
      ]
     },
     "metadata": {},
     "output_type": "display_data"
    },
    {
     "data": {
      "application/vnd.jupyter.widget-view+json": {
       "model_id": "b36b4cb4093c4d5381ff0d93df73e172",
       "version_major": 2,
       "version_minor": 0
      },
      "text/plain": [
       "  0%|          | 0/11 [00:00<?, ?it/s]"
      ]
     },
     "metadata": {},
     "output_type": "display_data"
    },
    {
     "data": {
      "application/vnd.jupyter.widget-view+json": {
       "model_id": "f8e9442dab5a4a6b9f8c8d21961c5a0f",
       "version_major": 2,
       "version_minor": 0
      },
      "text/plain": [
       "  0%|          | 0/11 [00:00<?, ?it/s]"
      ]
     },
     "metadata": {},
     "output_type": "display_data"
    },
    {
     "data": {
      "application/vnd.jupyter.widget-view+json": {
       "model_id": "5cea0a392eb84bfb9d2de7359d8bd58e",
       "version_major": 2,
       "version_minor": 0
      },
      "text/plain": [
       "  0%|          | 0/11 [00:00<?, ?it/s]"
      ]
     },
     "metadata": {},
     "output_type": "display_data"
    },
    {
     "data": {
      "application/vnd.jupyter.widget-view+json": {
       "model_id": "d674ea75d4ac455aa552cff2c8bdf5b6",
       "version_major": 2,
       "version_minor": 0
      },
      "text/plain": [
       "  0%|          | 0/11 [00:00<?, ?it/s]"
      ]
     },
     "metadata": {},
     "output_type": "display_data"
    },
    {
     "data": {
      "application/vnd.jupyter.widget-view+json": {
       "model_id": "a9b6d7a76e4e4f4ba4054f39cc87a821",
       "version_major": 2,
       "version_minor": 0
      },
      "text/plain": [
       "  0%|          | 0/11 [00:00<?, ?it/s]"
      ]
     },
     "metadata": {},
     "output_type": "display_data"
    },
    {
     "data": {
      "application/vnd.jupyter.widget-view+json": {
       "model_id": "9e653d4d615a48b494e68355df71137e",
       "version_major": 2,
       "version_minor": 0
      },
      "text/plain": [
       "  0%|          | 0/11 [00:00<?, ?it/s]"
      ]
     },
     "metadata": {},
     "output_type": "display_data"
    },
    {
     "data": {
      "application/vnd.jupyter.widget-view+json": {
       "model_id": "a42043744e69407e905dccec39a53c54",
       "version_major": 2,
       "version_minor": 0
      },
      "text/plain": [
       "  0%|          | 0/11 [00:00<?, ?it/s]"
      ]
     },
     "metadata": {},
     "output_type": "display_data"
    },
    {
     "data": {
      "application/vnd.jupyter.widget-view+json": {
       "model_id": "d9c0a74c4a754daebc941d854265237d",
       "version_major": 2,
       "version_minor": 0
      },
      "text/plain": [
       "  0%|          | 0/11 [00:00<?, ?it/s]"
      ]
     },
     "metadata": {},
     "output_type": "display_data"
    },
    {
     "data": {
      "application/vnd.jupyter.widget-view+json": {
       "model_id": "1d4c0a9246d34b9498662f82c90546a5",
       "version_major": 2,
       "version_minor": 0
      },
      "text/plain": [
       "  0%|          | 0/11 [00:00<?, ?it/s]"
      ]
     },
     "metadata": {},
     "output_type": "display_data"
    },
    {
     "data": {
      "application/vnd.jupyter.widget-view+json": {
       "model_id": "be78d956375547f1b3f3f8858aba3053",
       "version_major": 2,
       "version_minor": 0
      },
      "text/plain": [
       "  0%|          | 0/11 [00:00<?, ?it/s]"
      ]
     },
     "metadata": {},
     "output_type": "display_data"
    },
    {
     "data": {
      "application/vnd.jupyter.widget-view+json": {
       "model_id": "ff71f35a9a1047f98321e4d7a2f48401",
       "version_major": 2,
       "version_minor": 0
      },
      "text/plain": [
       "  0%|          | 0/11 [00:00<?, ?it/s]"
      ]
     },
     "metadata": {},
     "output_type": "display_data"
    },
    {
     "data": {
      "application/vnd.jupyter.widget-view+json": {
       "model_id": "e49dc20e2ef7419eb276bb6c56758487",
       "version_major": 2,
       "version_minor": 0
      },
      "text/plain": [
       "  0%|          | 0/11 [00:00<?, ?it/s]"
      ]
     },
     "metadata": {},
     "output_type": "display_data"
    },
    {
     "data": {
      "application/vnd.jupyter.widget-view+json": {
       "model_id": "dff0937c129a4d9380b6317d9715c556",
       "version_major": 2,
       "version_minor": 0
      },
      "text/plain": [
       "  0%|          | 0/11 [00:00<?, ?it/s]"
      ]
     },
     "metadata": {},
     "output_type": "display_data"
    },
    {
     "data": {
      "application/vnd.jupyter.widget-view+json": {
       "model_id": "6c8bfd2f23704a0fbe4687cdd18cf961",
       "version_major": 2,
       "version_minor": 0
      },
      "text/plain": [
       "  0%|          | 0/11 [00:00<?, ?it/s]"
      ]
     },
     "metadata": {},
     "output_type": "display_data"
    },
    {
     "data": {
      "application/vnd.jupyter.widget-view+json": {
       "model_id": "dde9841f8ca646debdbe2b47478fe620",
       "version_major": 2,
       "version_minor": 0
      },
      "text/plain": [
       "  0%|          | 0/11 [00:00<?, ?it/s]"
      ]
     },
     "metadata": {},
     "output_type": "display_data"
    },
    {
     "data": {
      "application/vnd.jupyter.widget-view+json": {
       "model_id": "5c0011137ac64407856abe0ae467a87a",
       "version_major": 2,
       "version_minor": 0
      },
      "text/plain": [
       "  0%|          | 0/11 [00:00<?, ?it/s]"
      ]
     },
     "metadata": {},
     "output_type": "display_data"
    },
    {
     "data": {
      "application/vnd.jupyter.widget-view+json": {
       "model_id": "aff2165b4b4646879e5c79465e4ffb5a",
       "version_major": 2,
       "version_minor": 0
      },
      "text/plain": [
       "  0%|          | 0/11 [00:00<?, ?it/s]"
      ]
     },
     "metadata": {},
     "output_type": "display_data"
    },
    {
     "data": {
      "application/vnd.jupyter.widget-view+json": {
       "model_id": "1b4ad8bcfffe4e4fa8fcd3df5bc2f57a",
       "version_major": 2,
       "version_minor": 0
      },
      "text/plain": [
       "  0%|          | 0/11 [00:00<?, ?it/s]"
      ]
     },
     "metadata": {},
     "output_type": "display_data"
    },
    {
     "data": {
      "application/vnd.jupyter.widget-view+json": {
       "model_id": "4c5526f189354823ba4112f5687d1844",
       "version_major": 2,
       "version_minor": 0
      },
      "text/plain": [
       "  0%|          | 0/11 [00:00<?, ?it/s]"
      ]
     },
     "metadata": {},
     "output_type": "display_data"
    },
    {
     "data": {
      "application/vnd.jupyter.widget-view+json": {
       "model_id": "25084d7cf1094d83a2662ebc8365140e",
       "version_major": 2,
       "version_minor": 0
      },
      "text/plain": [
       "  0%|          | 0/11 [00:00<?, ?it/s]"
      ]
     },
     "metadata": {},
     "output_type": "display_data"
    },
    {
     "data": {
      "application/vnd.jupyter.widget-view+json": {
       "model_id": "ce50f272bf244eb4b038860fd5159e1f",
       "version_major": 2,
       "version_minor": 0
      },
      "text/plain": [
       "  0%|          | 0/11 [00:00<?, ?it/s]"
      ]
     },
     "metadata": {},
     "output_type": "display_data"
    },
    {
     "data": {
      "application/vnd.jupyter.widget-view+json": {
       "model_id": "11344e5264ec49538e5305574b554b9b",
       "version_major": 2,
       "version_minor": 0
      },
      "text/plain": [
       "  0%|          | 0/11 [00:00<?, ?it/s]"
      ]
     },
     "metadata": {},
     "output_type": "display_data"
    },
    {
     "data": {
      "application/vnd.jupyter.widget-view+json": {
       "model_id": "5e089929c14a46b8960d0c4d716058ea",
       "version_major": 2,
       "version_minor": 0
      },
      "text/plain": [
       "  0%|          | 0/11 [00:00<?, ?it/s]"
      ]
     },
     "metadata": {},
     "output_type": "display_data"
    },
    {
     "data": {
      "application/vnd.jupyter.widget-view+json": {
       "model_id": "ca37973d654240a9ab15fec34210808d",
       "version_major": 2,
       "version_minor": 0
      },
      "text/plain": [
       "  0%|          | 0/11 [00:00<?, ?it/s]"
      ]
     },
     "metadata": {},
     "output_type": "display_data"
    },
    {
     "data": {
      "application/vnd.jupyter.widget-view+json": {
       "model_id": "a71c5acec73944e5b4344bbeba941c43",
       "version_major": 2,
       "version_minor": 0
      },
      "text/plain": [
       "  0%|          | 0/11 [00:00<?, ?it/s]"
      ]
     },
     "metadata": {},
     "output_type": "display_data"
    },
    {
     "data": {
      "application/vnd.jupyter.widget-view+json": {
       "model_id": "8a1c453f20004c948b70b5dd439f5237",
       "version_major": 2,
       "version_minor": 0
      },
      "text/plain": [
       "  0%|          | 0/11 [00:00<?, ?it/s]"
      ]
     },
     "metadata": {},
     "output_type": "display_data"
    },
    {
     "data": {
      "application/vnd.jupyter.widget-view+json": {
       "model_id": "a6609ff98c564dab83f3927481256a4b",
       "version_major": 2,
       "version_minor": 0
      },
      "text/plain": [
       "  0%|          | 0/11 [00:00<?, ?it/s]"
      ]
     },
     "metadata": {},
     "output_type": "display_data"
    },
    {
     "data": {
      "application/vnd.jupyter.widget-view+json": {
       "model_id": "1f9a6e3cff6e46cabaf524133e3f10d1",
       "version_major": 2,
       "version_minor": 0
      },
      "text/plain": [
       "  0%|          | 0/11 [00:00<?, ?it/s]"
      ]
     },
     "metadata": {},
     "output_type": "display_data"
    },
    {
     "data": {
      "application/vnd.jupyter.widget-view+json": {
       "model_id": "e097de571710471abab3450188e19c5a",
       "version_major": 2,
       "version_minor": 0
      },
      "text/plain": [
       "  0%|          | 0/11 [00:00<?, ?it/s]"
      ]
     },
     "metadata": {},
     "output_type": "display_data"
    },
    {
     "data": {
      "application/vnd.jupyter.widget-view+json": {
       "model_id": "25b2e24fb17d4d0686480381ff82c55f",
       "version_major": 2,
       "version_minor": 0
      },
      "text/plain": [
       "  0%|          | 0/11 [00:00<?, ?it/s]"
      ]
     },
     "metadata": {},
     "output_type": "display_data"
    },
    {
     "data": {
      "application/vnd.jupyter.widget-view+json": {
       "model_id": "7364dfd67a244e349a94623cce4827e8",
       "version_major": 2,
       "version_minor": 0
      },
      "text/plain": [
       "  0%|          | 0/11 [00:00<?, ?it/s]"
      ]
     },
     "metadata": {},
     "output_type": "display_data"
    },
    {
     "data": {
      "application/vnd.jupyter.widget-view+json": {
       "model_id": "1e43eef23b8046d38bf879a88d1fc25c",
       "version_major": 2,
       "version_minor": 0
      },
      "text/plain": [
       "  0%|          | 0/11 [00:00<?, ?it/s]"
      ]
     },
     "metadata": {},
     "output_type": "display_data"
    },
    {
     "data": {
      "application/vnd.jupyter.widget-view+json": {
       "model_id": "a213238740ed4d3f8bb6c4c4bc4db878",
       "version_major": 2,
       "version_minor": 0
      },
      "text/plain": [
       "  0%|          | 0/11 [00:00<?, ?it/s]"
      ]
     },
     "metadata": {},
     "output_type": "display_data"
    },
    {
     "data": {
      "application/vnd.jupyter.widget-view+json": {
       "model_id": "e77c0e00a0bb4b20b1f2eadeea3fb532",
       "version_major": 2,
       "version_minor": 0
      },
      "text/plain": [
       "  0%|          | 0/11 [00:00<?, ?it/s]"
      ]
     },
     "metadata": {},
     "output_type": "display_data"
    },
    {
     "data": {
      "application/vnd.jupyter.widget-view+json": {
       "model_id": "646d2a21634d4a4680cd9ecd761ca1b2",
       "version_major": 2,
       "version_minor": 0
      },
      "text/plain": [
       "  0%|          | 0/11 [00:00<?, ?it/s]"
      ]
     },
     "metadata": {},
     "output_type": "display_data"
    },
    {
     "data": {
      "application/vnd.jupyter.widget-view+json": {
       "model_id": "d1eb1563d48449b9b64907de20959e64",
       "version_major": 2,
       "version_minor": 0
      },
      "text/plain": [
       "  0%|          | 0/11 [00:00<?, ?it/s]"
      ]
     },
     "metadata": {},
     "output_type": "display_data"
    },
    {
     "data": {
      "application/vnd.jupyter.widget-view+json": {
       "model_id": "bbadefec604443a7b37948803a53d177",
       "version_major": 2,
       "version_minor": 0
      },
      "text/plain": [
       "  0%|          | 0/11 [00:00<?, ?it/s]"
      ]
     },
     "metadata": {},
     "output_type": "display_data"
    },
    {
     "data": {
      "application/vnd.jupyter.widget-view+json": {
       "model_id": "9033ff4001054965af7e1c0814554cde",
       "version_major": 2,
       "version_minor": 0
      },
      "text/plain": [
       "  0%|          | 0/11 [00:00<?, ?it/s]"
      ]
     },
     "metadata": {},
     "output_type": "display_data"
    },
    {
     "data": {
      "application/vnd.jupyter.widget-view+json": {
       "model_id": "e9c630402bf141ea9986769ecba52590",
       "version_major": 2,
       "version_minor": 0
      },
      "text/plain": [
       "  0%|          | 0/11 [00:00<?, ?it/s]"
      ]
     },
     "metadata": {},
     "output_type": "display_data"
    },
    {
     "data": {
      "application/vnd.jupyter.widget-view+json": {
       "model_id": "4d3a8a4ae0a54a01a72ca3b2299b7833",
       "version_major": 2,
       "version_minor": 0
      },
      "text/plain": [
       "  0%|          | 0/11 [00:00<?, ?it/s]"
      ]
     },
     "metadata": {},
     "output_type": "display_data"
    },
    {
     "data": {
      "application/vnd.jupyter.widget-view+json": {
       "model_id": "361d66d8e6034cdd97d888fab7e09578",
       "version_major": 2,
       "version_minor": 0
      },
      "text/plain": [
       "  0%|          | 0/11 [00:00<?, ?it/s]"
      ]
     },
     "metadata": {},
     "output_type": "display_data"
    },
    {
     "data": {
      "application/vnd.jupyter.widget-view+json": {
       "model_id": "b0e5bc0174b945e887e527edeb16b0e2",
       "version_major": 2,
       "version_minor": 0
      },
      "text/plain": [
       "  0%|          | 0/11 [00:00<?, ?it/s]"
      ]
     },
     "metadata": {},
     "output_type": "display_data"
    },
    {
     "data": {
      "application/vnd.jupyter.widget-view+json": {
       "model_id": "94dca96b7ead4fcea8f4522835871fc0",
       "version_major": 2,
       "version_minor": 0
      },
      "text/plain": [
       "  0%|          | 0/11 [00:00<?, ?it/s]"
      ]
     },
     "metadata": {},
     "output_type": "display_data"
    },
    {
     "data": {
      "application/vnd.jupyter.widget-view+json": {
       "model_id": "8e4046229b8a44ecaee062a4272db61f",
       "version_major": 2,
       "version_minor": 0
      },
      "text/plain": [
       "  0%|          | 0/11 [00:00<?, ?it/s]"
      ]
     },
     "metadata": {},
     "output_type": "display_data"
    },
    {
     "data": {
      "application/vnd.jupyter.widget-view+json": {
       "model_id": "80472f0dca344e84896b20ffc1ec86e8",
       "version_major": 2,
       "version_minor": 0
      },
      "text/plain": [
       "  0%|          | 0/11 [00:00<?, ?it/s]"
      ]
     },
     "metadata": {},
     "output_type": "display_data"
    },
    {
     "data": {
      "application/vnd.jupyter.widget-view+json": {
       "model_id": "d40b32c7b9b841ec93b964db9779de65",
       "version_major": 2,
       "version_minor": 0
      },
      "text/plain": [
       "  0%|          | 0/11 [00:00<?, ?it/s]"
      ]
     },
     "metadata": {},
     "output_type": "display_data"
    },
    {
     "data": {
      "application/vnd.jupyter.widget-view+json": {
       "model_id": "5d348d4c3abf4a5cbd97d9c310179b44",
       "version_major": 2,
       "version_minor": 0
      },
      "text/plain": [
       "  0%|          | 0/11 [00:00<?, ?it/s]"
      ]
     },
     "metadata": {},
     "output_type": "display_data"
    },
    {
     "data": {
      "application/vnd.jupyter.widget-view+json": {
       "model_id": "b0de20bd0c1a4dbdaf9b46dd248e5e23",
       "version_major": 2,
       "version_minor": 0
      },
      "text/plain": [
       "  0%|          | 0/11 [00:00<?, ?it/s]"
      ]
     },
     "metadata": {},
     "output_type": "display_data"
    },
    {
     "data": {
      "application/vnd.jupyter.widget-view+json": {
       "model_id": "10eaf942eb504497a5d7ebcb1f212712",
       "version_major": 2,
       "version_minor": 0
      },
      "text/plain": [
       "  0%|          | 0/11 [00:00<?, ?it/s]"
      ]
     },
     "metadata": {},
     "output_type": "display_data"
    },
    {
     "data": {
      "application/vnd.jupyter.widget-view+json": {
       "model_id": "13e5da8aa9894a0e8075817dfeb524cb",
       "version_major": 2,
       "version_minor": 0
      },
      "text/plain": [
       "  0%|          | 0/11 [00:00<?, ?it/s]"
      ]
     },
     "metadata": {},
     "output_type": "display_data"
    },
    {
     "data": {
      "application/vnd.jupyter.widget-view+json": {
       "model_id": "dfcfd7f2bcdf4f6f8934c84873e8815a",
       "version_major": 2,
       "version_minor": 0
      },
      "text/plain": [
       "  0%|          | 0/11 [00:00<?, ?it/s]"
      ]
     },
     "metadata": {},
     "output_type": "display_data"
    },
    {
     "data": {
      "application/vnd.jupyter.widget-view+json": {
       "model_id": "286db110c9a641558d349819812e4388",
       "version_major": 2,
       "version_minor": 0
      },
      "text/plain": [
       "  0%|          | 0/11 [00:00<?, ?it/s]"
      ]
     },
     "metadata": {},
     "output_type": "display_data"
    },
    {
     "data": {
      "application/vnd.jupyter.widget-view+json": {
       "model_id": "4416878e971a4c24986046eac2cbcff7",
       "version_major": 2,
       "version_minor": 0
      },
      "text/plain": [
       "  0%|          | 0/11 [00:00<?, ?it/s]"
      ]
     },
     "metadata": {},
     "output_type": "display_data"
    },
    {
     "data": {
      "application/vnd.jupyter.widget-view+json": {
       "model_id": "190c9241f9c342a9bb192107885c5b69",
       "version_major": 2,
       "version_minor": 0
      },
      "text/plain": [
       "  0%|          | 0/11 [00:00<?, ?it/s]"
      ]
     },
     "metadata": {},
     "output_type": "display_data"
    },
    {
     "data": {
      "application/vnd.jupyter.widget-view+json": {
       "model_id": "4fad2b8119134e4989f3b1836684ad15",
       "version_major": 2,
       "version_minor": 0
      },
      "text/plain": [
       "  0%|          | 0/11 [00:00<?, ?it/s]"
      ]
     },
     "metadata": {},
     "output_type": "display_data"
    }
   ],
   "source": [
    "pickled_model_09 = pickle.load(open('model_with_var_wlli_1.pkl', 'rb'))\n",
    "X_test = pickle.load(open('X_test.pkl', 'rb'))\n",
    "kkk =  ['Rainfall','Sunshine','Humidity3pm','MinTemp']\n",
    "\n",
    "try_1 = [1,2]\n",
    "try_2 = [1,2,3]\n",
    "try_3 = [1,2]\n",
    "try_4 = [1,2,3]\n",
    "\n",
    "all_co = []\n",
    "for fr in try_1:\n",
    "    for se in try_2:\n",
    "        for thr in try_3:\n",
    "            for fo in try_4:\n",
    "                all_co.append([fr,se,thr,fo])\n",
    "\n",
    "rest = []\n",
    "for ll in all_co:\n",
    "    ready_note = dict(zip(kkk,ll))\n",
    "    rest.append(find_output(ready_note))\n",
    "    \n",
    "for_test = []\n",
    "for i in range(35549):\n",
    "    df = []\n",
    "    for j in kkk:\n",
    "        df.append(int(X_test[i:i+1][j]))\n",
    "    for_test.append(df)\n",
    "\n",
    "def find_value_1(posterior_p):\n",
    "    klo = str(posterior_p)\n",
    "    aoo = []\n",
    "    check = ['-','+','_','=','|',' ','\\n']\n",
    "    st = ''\n",
    "    pos = 0\n",
    "    for mk in klo:\n",
    "        if(mk not in check):\n",
    "            st += mk\n",
    "            pos = 1\n",
    "        elif(pos ==1): \n",
    "            #if(type(st)==type(1)):\n",
    "            aoo.append(st) \n",
    "            st = ''\n",
    "            pos = 0\n",
    "    return aoo[5]\n",
    "\n",
    "def find_output(note):\n",
    "    for i in kkk:\n",
    "        if(note[i]=='n'):\n",
    "            del note[i]\n",
    "    posterior_p_1 = pickled_model_09.query(['RainTomorrow'], evidence=note)\n",
    "    #print(posterior_p_1)\n",
    "    #print(\"\\n\")\n",
    "    #print(\"value of rain tomorrow: \")\n",
    "    coco = find_value_1(posterior_p_1)\n",
    "    #print(coco)\n",
    "    return coco\n",
    "\n",
    "for i in range(len(all_co)):\n",
    "    all_co[i] = str(all_co[i])\n",
    "\n",
    "for i in for_test:\n",
    "    ready_note = dict(zip(all_co,rest))\n",
    "\n",
    "final_all_out = []\n",
    "for i in for_test:\n",
    "    final_all_out.append(ready_note[str(i)])\n",
    "for i in range(len(final_all_out)):\n",
    "    if(float(final_all_out[i])>0.5):\n",
    "        final_all_out[i]=2\n",
    "    else:\n",
    "        final_all_out[i]=1\n",
    "\n"
   ]
  },
  {
   "cell_type": "code",
   "execution_count": 91,
   "id": "c7ec2415",
   "metadata": {
    "collapsed": true
   },
   "outputs": [
    {
     "data": {
      "text/plain": [
       "{'[1, 1, 1, 1]': '0.4412',\n",
       " '[1, 1, 1, 2]': '0.4923',\n",
       " '[1, 1, 1, 3]': '0.4923',\n",
       " '[1, 1, 2, 1]': '0.4098',\n",
       " '[1, 1, 2, 2]': '0.1455',\n",
       " '[1, 1, 2, 3]': '0.5025',\n",
       " '[1, 2, 1, 1]': '0.2869',\n",
       " '[1, 2, 1, 2]': '0.4923',\n",
       " '[1, 2, 1, 3]': '0.4923',\n",
       " '[1, 2, 2, 1]': '0.0835',\n",
       " '[1, 2, 2, 2]': '0.1685',\n",
       " '[1, 2, 2, 3]': '0.1843',\n",
       " '[1, 3, 1, 1]': '0.1395',\n",
       " '[1, 3, 1, 2]': '0.4923',\n",
       " '[1, 3, 1, 3]': '0.4923',\n",
       " '[1, 3, 2, 1]': '0.0176',\n",
       " '[1, 3, 2, 2]': '0.0359',\n",
       " '[1, 3, 2, 3]': '0.0527',\n",
       " '[2, 1, 1, 1]': '0.7952',\n",
       " '[2, 1, 1, 2]': '0.5007',\n",
       " '[2, 1, 1, 3]': '0.5482',\n",
       " '[2, 1, 2, 1]': '0.7143',\n",
       " '[2, 1, 2, 2]': '0.5264',\n",
       " '[2, 1, 2, 3]': '0.8486',\n",
       " '[2, 2, 1, 1]': '0.6317',\n",
       " '[2, 2, 1, 2]': '0.5007',\n",
       " '[2, 2, 1, 3]': '0.5482',\n",
       " '[2, 2, 2, 1]': '0.2587',\n",
       " '[2, 2, 2, 2]': '0.5363',\n",
       " '[2, 2, 2, 3]': '0.5220',\n",
       " '[2, 3, 1, 1]': '0.4610',\n",
       " '[2, 3, 1, 2]': '0.5007',\n",
       " '[2, 3, 1, 3]': '0.5482',\n",
       " '[2, 3, 2, 1]': '0.0857',\n",
       " '[2, 3, 2, 2]': '0.4386',\n",
       " '[2, 3, 2, 3]': '0.2225'}"
      ]
     },
     "execution_count": 91,
     "metadata": {},
     "output_type": "execute_result"
    }
   ],
   "source": [
    "ready_note"
   ]
  },
  {
   "cell_type": "code",
   "execution_count": 93,
   "id": "b2e2e9df",
   "metadata": {},
   "outputs": [
    {
     "name": "stdout",
     "output_type": "stream",
     "text": [
      "0.8172663084756252\n"
     ]
    }
   ],
   "source": [
    "from sklearn.metrics import accuracy_score\n",
    "acc = accuracy_score(final_all_out, val_for_te)\n",
    "print(acc)"
   ]
  },
  {
   "cell_type": "markdown",
   "id": "b96d4e77",
   "metadata": {},
   "source": [
    "## Accuracy is 0.8172"
   ]
  },
  {
   "cell_type": "code",
   "execution_count": 88,
   "id": "890369b0",
   "metadata": {},
   "outputs": [
    {
     "data": {
      "text/plain": [
       "0"
      ]
     },
     "execution_count": 88,
     "metadata": {},
     "output_type": "execute_result"
    }
   ],
   "source": [
    "len(final_all_out)"
   ]
  },
  {
   "cell_type": "code",
   "execution_count": 89,
   "id": "ea315144",
   "metadata": {},
   "outputs": [
    {
     "data": {
      "text/plain": [
       "35549"
      ]
     },
     "execution_count": 89,
     "metadata": {},
     "output_type": "execute_result"
    }
   ],
   "source": [
    "len(val_for_te)"
   ]
  },
  {
   "cell_type": "code",
   "execution_count": null,
   "id": "2c7201f6",
   "metadata": {},
   "outputs": [],
   "source": []
  }
 ],
 "metadata": {
  "kernelspec": {
   "display_name": "Python 3 (ipykernel)",
   "language": "python",
   "name": "python3"
  },
  "language_info": {
   "codemirror_mode": {
    "name": "ipython",
    "version": 3
   },
   "file_extension": ".py",
   "mimetype": "text/x-python",
   "name": "python",
   "nbconvert_exporter": "python",
   "pygments_lexer": "ipython3",
   "version": "3.9.13"
  }
 },
 "nbformat": 4,
 "nbformat_minor": 5
}
